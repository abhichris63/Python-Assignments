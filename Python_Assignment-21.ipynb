{
 "cells": [
  {
   "cell_type": "code",
   "execution_count": 86,
   "id": "f79c5be6",
   "metadata": {},
   "outputs": [
    {
     "data": {
      "text/plain": [
       "'11/11/2022'"
      ]
     },
     "execution_count": 86,
     "metadata": {},
     "output_type": "execute_result"
    }
   ],
   "source": [
    "#1. Add the current date to the text file today.txt as a string.\n",
    "\n",
    "\n",
    "from datetime import datetime\n",
    "now = datetime.now()\n",
    "today_date= now.date()\n",
    "date = today_date.strftime(\"%m/%d/%Y\")\n",
    "today_file = open('today.txt','w')\n",
    "today_file.write(date)\n",
    "today_file.close()"
   ]
  },
  {
   "cell_type": "code",
   "execution_count": 92,
   "id": "61d8984f",
   "metadata": {},
   "outputs": [],
   "source": [
    "#2. Read the text file today.txt into the string today_string\n",
    "\n",
    "today_file1= open('today.txt','r')\n",
    "today_string = today_file1.read()"
   ]
  },
  {
   "cell_type": "code",
   "execution_count": 94,
   "id": "e283e245",
   "metadata": {},
   "outputs": [
    {
     "data": {
      "text/plain": [
       "'11/11/2022'"
      ]
     },
     "execution_count": 94,
     "metadata": {},
     "output_type": "execute_result"
    }
   ],
   "source": [
    "#3. Parse the date from today_string.\n",
    "today_string"
   ]
  },
  {
   "cell_type": "code",
   "execution_count": 100,
   "id": "ceb2da67",
   "metadata": {},
   "outputs": [],
   "source": [
    "#4. List the files in your current directory"
   ]
  },
  {
   "cell_type": "code",
   "execution_count": 104,
   "id": "9ec0c201",
   "metadata": {},
   "outputs": [
    {
     "name": "stdout",
     "output_type": "stream",
     "text": [
      " Volume in drive C has no label.\n",
      " Volume Serial Number is B63F-C265\n",
      "\n",
      " Directory of C:\\Users\\ADMIN\\Desktop\\Ineuron.Ai\\Python\\Python Assignments\n",
      "\n",
      "11/11/2022  09:56 PM    <DIR>          .\n",
      "11/11/2022  09:56 PM    <DIR>          ..\n",
      "10/02/2022  05:21 PM    <DIR>          .idea\n",
      "11/11/2022  09:12 PM    <DIR>          .ipynb_checkpoints\n",
      "10/02/2022  06:15 PM    <DIR>          __pycache__\n",
      "10/11/2022  09:30 AM               207 books.csv\n",
      "10/11/2022  10:20 AM             8,192 books.db\n",
      "09/22/2022  07:49 PM            75,478 cat.jpg\n",
      "09/20/2022  08:52 AM           939,586 Cloud-Computing-Unit-1.pdf\n",
      "09/21/2022  06:25 PM           905,141 encrptedCloud-Computing-Unit-1.pdf\n",
      "09/21/2022  08:59 PM            36,679 gfg.docx\n",
      "09/21/2022  08:53 PM            36,601 Hello.docx\n",
      "09/22/2022  12:10 AM           357,807 original.jpg\n",
      "09/20/2022  08:43 PM               562 programLog.txt\n",
      "09/22/2022  07:45 PM               538 purpleImage.png\n",
      "12/07/2021  03:07 PM             4,801 Python Assignment-1.ipynb\n",
      "09/20/2022  08:59 AM            11,953 Python Assignment-10.ipynb\n",
      "09/20/2022  10:46 PM             5,376 Python Assignment-11.ipynb\n",
      "09/21/2022  09:09 PM             7,837 Python Assignment-12.ipynb\n",
      "02/26/2022  07:27 PM             4,299 Python Assignment-2.ipynb\n",
      "03/01/2022  12:24 AM             5,910 Python Assignment-3.ipynb\n",
      "03/01/2022  11:39 PM             7,460 Python Assignment-4.ipynb\n",
      "03/02/2022  02:03 PM             3,261 Python Assignment-5.ipynb\n",
      "03/02/2022  11:40 PM             4,374 Python Assignment-6.ipynb\n",
      "08/13/2022  10:41 AM             9,306 Python Assignment-7.ipynb\n",
      "09/13/2022  11:53 PM             3,686 Python Assignment-9.ipynb\n",
      "09/21/2022  11:17 PM             3,351 Python_Assignment-13.ipynb\n",
      "09/22/2022  09:29 PM             3,939 Python_Assignment-14.ipynb\n",
      "09/23/2022  12:12 AM             3,028 Python_Assignment-15.ipynb\n",
      "09/23/2022  09:14 AM             6,953 Python_Assignment-16.ipynb\n",
      "09/26/2022  10:11 AM             6,508 Python_Assignment-17.ipynb\n",
      "10/02/2022  07:12 PM             3,340 Python_Assignment-18.ipynb\n",
      "10/08/2022  10:43 AM             8,541 Python_Assignment-19.ipynb\n",
      "11/11/2022  09:07 PM             7,851 Python_Assignment-20.ipynb\n",
      "11/11/2022  09:56 PM             6,703 Python_Assignment-21.ipynb\n",
      "09/22/2022  08:52 PM            31,743 savedCatImage.jpg\n",
      "10/11/2022  08:57 AM                44 test.txt\n",
      "11/11/2022  09:51 PM                10 today.txt\n",
      "09/22/2022  07:45 PM               234 transparentImage.png\n",
      "09/26/2022  09:41 PM                72 Untitled.ipynb\n",
      "09/26/2022  09:38 PM               589 Untitled1.ipynb\n",
      "10/02/2022  06:12 PM                50 zoo.py\n",
      "              37 File(s)      2,512,010 bytes\n",
      "               5 Dir(s)  119,638,593,536 bytes free\n"
     ]
    }
   ],
   "source": [
    "ls"
   ]
  },
  {
   "cell_type": "code",
   "execution_count": 136,
   "id": "c0d6d8d7",
   "metadata": {},
   "outputs": [
    {
     "name": "stdout",
     "output_type": "stream",
     "text": [
      "length of files in parent directory : 41\n",
      "<class 'list'>\n",
      "['.git', '.ipynb_checkpoints', 'abhi.log', 'abhi1.log', 'Exception Handling.ipynb', 'File System.ipynb', 'fileclass.py', 'list.log', 'List_module.log', 'Logging.ipynb', 'Modules.ipynb', 'MyOwnProject', 'My_Dictionaries.py', 'my_modules.py', 'new 1.txt', 'Oops (Inheritance).ipynb', 'OOPS CONCEPT.ipynb', 'opps with Modules.ipynb', 'OwnProjectInPackage', 'Own_BuiltIn_Functions.ipynb', 'PdfProject', 'Polymorphism.ipynb', 'Python Advance functiions.ipynb', 'Python Assignments', 'test.log', 'test.txt', 'test1.py', 'test1.txt', 'test2.log', 'test2.py', 'test2.txt', 'test23.txt', 'test3.log', 'test4.log', 'test5.log', 'test57.txt', 'text57.txt', 'tst.txt', 'Untitled.ipynb', 'Untitled1.ipynb', '__pycache__']\n"
     ]
    }
   ],
   "source": [
    "#5. Create a list of all of the files in your parent directory (minimum five files should be available).\n",
    "\n",
    "import os\n",
    "files_list = os.listdir('..')\n",
    "print(f\"length of files in parent directory : {len(files_list)}\")\n",
    "print(type(files_list))\n",
    "print(files_list)"
   ]
  },
  {
   "cell_type": "raw",
   "id": "7e3d3381",
   "metadata": {},
   "source": [
    "6. Use multiprocessing to create three separate processes. Make each one wait a random number of\n",
    "seconds between one and five, print the current time, and then exit.\n",
    "\n"
   ]
  },
  {
   "cell_type": "code",
   "execution_count": 144,
   "id": "451600c4",
   "metadata": {},
   "outputs": [
    {
     "name": "stdout",
     "output_type": "stream",
     "text": [
      "1996-10-20\n"
     ]
    }
   ],
   "source": [
    "#7. Create a date object of your day of birth.\n",
    "\n",
    "my_birthday = date(1996,10,20)\n",
    "print(my_birthday)"
   ]
  },
  {
   "cell_type": "code",
   "execution_count": 154,
   "id": "614bee87",
   "metadata": {},
   "outputs": [
    {
     "name": "stdout",
     "output_type": "stream",
     "text": [
      "The day of my birthday in a week is : 7 that is Sunday\n"
     ]
    }
   ],
   "source": [
    "#8. What day of the week was your day of birth?\n",
    "\n",
    "print(f'The day of my birthday in a week is : {my_birthday.isoweekday()} that is Sunday')"
   ]
  },
  {
   "cell_type": "code",
   "execution_count": 171,
   "id": "fc4f71d0",
   "metadata": {},
   "outputs": [
    {
     "name": "stdout",
     "output_type": "stream",
     "text": [
      "2024-03-07\n"
     ]
    }
   ],
   "source": [
    "#9. When will you be (or when were you) 10,000 days old?\n",
    "\n",
    "from datetime import timedelta\n",
    "ten_thousand_days_old = my_birthday + timedelta(days=10000)\n",
    "print(ten_thousand_days_old)"
   ]
  }
 ],
 "metadata": {
  "kernelspec": {
   "display_name": "Python 3 (ipykernel)",
   "language": "python",
   "name": "python3"
  },
  "language_info": {
   "codemirror_mode": {
    "name": "ipython",
    "version": 3
   },
   "file_extension": ".py",
   "mimetype": "text/x-python",
   "name": "python",
   "nbconvert_exporter": "python",
   "pygments_lexer": "ipython3",
   "version": "3.9.12"
  }
 },
 "nbformat": 4,
 "nbformat_minor": 5
}
