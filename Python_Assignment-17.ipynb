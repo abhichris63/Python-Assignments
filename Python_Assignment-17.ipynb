{
 "cells": [
  {
   "cell_type": "markdown",
   "id": "6bf5a2e1",
   "metadata": {},
   "source": [
    "# Python_Assignment-17"
   ]
  },
  {
   "cell_type": "raw",
   "id": "df4367bb",
   "metadata": {},
   "source": [
    "1. Assign the value 7 to the variable guess_me. Then, write the conditional tests (if, else, and elif) to\n",
    "print the string 'too low' if guess_me is less than 7, 'too high' if greater than 7, and 'just right' if equal\n",
    "to 7.\n",
    "\n",
    "\n",
    "guess_me = 7\n",
    "\n",
    "if guess_me < 7:\n",
    "    print('too low')\n",
    "elif guess_me > 7:\n",
    "    print('too high')\n",
    "else:\n",
    "    print('just right')\n",
    "    \n",
    "Output:\n",
    "    \n",
    "    just right\n"
   ]
  },
  {
   "cell_type": "raw",
   "id": "7804f520",
   "metadata": {},
   "source": [
    "2. Assign the value 7 to the variable guess_me and the value 1 to the variable start. Write a while\n",
    "loop that compares start with guess_me. Print too low if start is less than guess me. If start equals\n",
    "guess_me, print 'found it!' and exit the loop. If start is greater than guess_me, print 'oops' and exit\n",
    "the loop. Increment start at the end of the loop.\n",
    "\n",
    "\n",
    "guess_me = 7\n",
    "\n",
    "start = 1\n",
    "\n",
    "while True:\n",
    "    if start < guess_me:\n",
    "        print('too low')\n",
    "        \n",
    "    elif start == guess_me:\n",
    "        print('found it!')\n",
    "        break\n",
    "    \n",
    "    else:\n",
    "        print('oops')\n",
    "        break\n",
    "    start += 1\n",
    "    \n",
    "Output:\n",
    "    too low\n",
    "    too low\n",
    "    too low\n",
    "    too low\n",
    "    too low\n",
    "    too low\n",
    "    found it!"
   ]
  },
  {
   "cell_type": "raw",
   "id": "0aaabc30",
   "metadata": {},
   "source": [
    "3. Print the following values of the list [3, 2, 1, 0] using a for loop.\n",
    "\n",
    "list = [3,2,1,0]\n",
    "\n",
    "for i in list:\n",
    "    print(i)\n",
    "    \n",
    "Output:\n",
    "\n",
    "    3\n",
    "    2\n",
    "    1\n",
    "    0"
   ]
  },
  {
   "cell_type": "raw",
   "id": "b698e9f7",
   "metadata": {},
   "source": [
    "4. Use a list comprehension to make a list of the even numbers in range(10)\n",
    "\n",
    "even_numbers = [i for i in range(0,10) if i % 2==0]\n",
    "print(even_numbers)\n",
    "\n",
    "Output:\n",
    "    [0, 2, 4, 6, 8]"
   ]
  },
  {
   "cell_type": "raw",
   "id": "3e9fa767",
   "metadata": {},
   "source": [
    "5. Use a dictionary comprehension to create the dictionary squares. Use range(10) to return the\n",
    "keys, and use the square of each key as its value.\n",
    "\n",
    "dictionary_squares = {i: i * i for i in range(10)}\n",
    "print(dictionary_squares)\n",
    "\n",
    "Output:\n",
    "    {0: 0, 1: 1, 2: 4, 3: 9, 4: 16, 5: 25, 6: 36, 7: 49, 8: 64, 9: 81} "
   ]
  },
  {
   "cell_type": "raw",
   "id": "ca071843",
   "metadata": {},
   "source": [
    "6. Construct the set odd from the odd numbers in the range using a set comprehension (10).\n",
    "\n",
    "set = {i for i in range(10) if i%2==1}\n",
    "print(set)\n",
    "\n",
    "output:{1, 3, 5, 7, 9}"
   ]
  },
  {
   "cell_type": "raw",
   "id": "57bed2ed",
   "metadata": {},
   "source": [
    "7. Use a generator comprehension to return the string 'Got' and a number for the numbers in\n",
    "range(10). Iterate through this by using a for loop.\n",
    "\n",
    "\n",
    "generator_string = ('Got ' + str(i) for i in range(10))\n",
    "for i in generator_string:\n",
    "    print(i)\n",
    "    \n",
    "Result:\n",
    "    Got 0\n",
    "    Got 1\n",
    "    Got 2\n",
    "    Got 3\n",
    "    Got 4\n",
    "    Got 5\n",
    "    Got 6\n",
    "    Got 7\n",
    "    Got 8"
   ]
  },
  {
   "cell_type": "raw",
   "id": "b41ea845",
   "metadata": {},
   "source": [
    "8. Define a function called good that returns the list ['Harry', 'Ron', 'Hermione']\n",
    "\n",
    "\n",
    "def good():\n",
    "        return ['Harry', 'Ron', 'Hermione']\n",
    "    \n",
    "good()"
   ]
  },
  {
   "cell_type": "raw",
   "id": "9b48d4ce",
   "metadata": {},
   "source": [
    "9. Define a generator function called get_odds that returns the odd numbers from range(10). Use a\n",
    "for loop to find and print the third value returned.\n",
    "\n",
    "get_odds = (i for i in range(10) if i % 2 ==1)\n",
    "count = 0\n",
    "for i in get_odds:\n",
    "    if count==2:\n",
    "        print(i)\n",
    "        break\n",
    "    count += 1\n",
    "    \n",
    "Output :\n",
    "    5"
   ]
  },
  {
   "cell_type": "raw",
   "id": "2d6b1c64",
   "metadata": {},
   "source": [
    "10. Define an exception called OopsException. Raise this exception to see what happens. Then write\n",
    "the code to catch this exception and print 'Caught an oops'.\n",
    "\n",
    "class OopsException(Exception):\n",
    "    pass\n",
    "\n",
    "def This_Exception(a):\n",
    "    a<0\n",
    "    raise OopsException\n",
    "    \n",
    "try:\n",
    "    This_Exception(-3)\n",
    "\n",
    "except OopsException as error:\n",
    "    print('Caught an oops')\n",
    "    \n",
    "Result:\n",
    "    Caught an oops"
   ]
  },
  {
   "cell_type": "raw",
   "id": "4443fa50",
   "metadata": {},
   "source": [
    "11. Use zip() to make a dictionary called movies that pairs these lists: titles = ['Creature of Habit',\n",
    "'Crewel Fate'] and plots = ['A nun turns into a monster', 'A haunted yarn shop'].\n",
    "\n",
    "\n",
    "titles = ['Creature of Habit', 'Crewel Fate']\n",
    "plots = ['A nun turns into a monster', 'A haunted yarn shop']\n",
    "\n",
    "movies={}\n",
    "\n",
    "for title,plot in zip(titles,plots):\n",
    "    movies = dict(zip(titles,plots))\n",
    "print(movies)\n",
    "\n",
    "Output:\n",
    "    {'Creature of Habit': 'A nun turns into a monster', 'Crewel Fate': 'A haunted yarn shop'}"
   ]
  }
 ],
 "metadata": {
  "kernelspec": {
   "display_name": "Python 3 (ipykernel)",
   "language": "python",
   "name": "python3"
  },
  "language_info": {
   "codemirror_mode": {
    "name": "ipython",
    "version": 3
   },
   "file_extension": ".py",
   "mimetype": "text/x-python",
   "name": "python",
   "nbconvert_exporter": "python",
   "pygments_lexer": "ipython3",
   "version": "3.9.12"
  }
 },
 "nbformat": 4,
 "nbformat_minor": 5
}
