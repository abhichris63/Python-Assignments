{
 "cells": [
  {
   "cell_type": "markdown",
   "id": "25e5d591",
   "metadata": {},
   "source": [
    "# PYTHON ASSIGNMENT - 5"
   ]
  },
  {
   "cell_type": "markdown",
   "id": "e8caaf32",
   "metadata": {},
   "source": [
    "1. What does an empty dictionary's code look like?\n",
    "\n",
    "{} opening and closing emtpy flower brackets.\n"
   ]
  },
  {
   "cell_type": "markdown",
   "id": "d2f7c9c6",
   "metadata": {},
   "source": [
    "2. What is the value of a dictionary value with the key 'foo' and the value 42?\n",
    "\n",
    "d={\"foo\":42}\n",
    "d\n",
    "\n",
    "Output: {'foo': 42}"
   ]
  },
  {
   "cell_type": "markdown",
   "id": "3c8bd06e",
   "metadata": {},
   "source": [
    "3. What is the most significant distinction between a dictionary and a list?\n",
    "\n",
    "Dictionary will have {} opening & closing flower brackets within that keys and values will be given.\n",
    "Lists will have [] opening & closing square brackets within that it will not have keys and values.\n",
    "Dictionary is unordered collection of items.\n",
    "Lists are ordered collection of items"
   ]
  },
  {
   "cell_type": "markdown",
   "id": "21fc5efe",
   "metadata": {},
   "source": [
    "4. What happens if you try to access spam['foo'] if spam is {'bar': 100}?\n",
    "\n",
    "spam={\"bar\":100}\n",
    "spam[\"foo\"]\n",
    "\n",
    "We get an keyError: 'foo'"
   ]
  },
  {
   "cell_type": "markdown",
   "id": "e76ca3d3",
   "metadata": {},
   "source": [
    "5. If a dictionary is stored in spam, what is the difference between the expressions 'cat' in spam and 'cat' in spam.keys()?\n",
    "\n",
    "There is no difference in both but the operator checks whether the key is present in spam dictionary or not."
   ]
  },
  {
   "cell_type": "markdown",
   "id": "a95f5aab",
   "metadata": {},
   "source": [
    "6. If a dictionary is stored in spam, what is the difference between the expressions 'cat' in spam and 'cat' in spam.values()?\n",
    "\n",
    "Dictonary spam checks whether there is 'cat' key present in dict and then checks that values of 'cat' in spam.values() value 'cat'for one of the keys in spam.\n",
    "\n",
    "spam checks whether there is 'cat' key present in spam and then checks that the value 'cat' is one of the value for key in spam. spam.values()"
   ]
  },
  {
   "cell_type": "markdown",
   "id": "1a0c650b",
   "metadata": {},
   "source": [
    "7. What is a shortcut for the following code?\n",
    "\n",
    "if 'color' not in spam:\n",
    "spam['color'] = 'black'\n",
    "\n",
    "spam.setdefault('color','black')"
   ]
  },
  {
   "cell_type": "markdown",
   "id": "e665ad73",
   "metadata": {},
   "source": [
    "8. How do you \"pretty print\" dictionary values using which module and function?\n",
    "pprint.pprint()"
   ]
  }
 ],
 "metadata": {
  "kernelspec": {
   "display_name": "Python 3",
   "language": "python",
   "name": "python3"
  },
  "language_info": {
   "codemirror_mode": {
    "name": "ipython",
    "version": 3
   },
   "file_extension": ".py",
   "mimetype": "text/x-python",
   "name": "python",
   "nbconvert_exporter": "python",
   "pygments_lexer": "ipython3",
   "version": "3.8.8"
  }
 },
 "nbformat": 4,
 "nbformat_minor": 5
}
