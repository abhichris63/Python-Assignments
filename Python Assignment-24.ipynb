{
 "cells": [
  {
   "cell_type": "markdown",
   "id": "8e9ac607-b4ac-4151-8d36-a543a98ef80c",
   "metadata": {},
   "source": [
    "## Assignment_24"
   ]
  },
  {
   "cell_type": "markdown",
   "id": "f36d99b0-f83f-4e49-8a07-64f9aa0e238a",
   "metadata": {},
   "source": [
    "### 1. What is the relationship between def statements and lambda expressions ?\n",
    "\n",
    "1.The main difference is that def statements required atleast 2 lines of code to run simple function\n",
    "  whereas lambda expresssions requires only one line of code.\n",
    "  \n",
    "2.lamda expresssions is much faster than def statement they are different in synatically."
   ]
  },
  {
   "cell_type": "markdown",
   "id": "f7782eb8-a802-45ee-a2e1-894811945e36",
   "metadata": {
    "tags": []
   },
   "source": [
    "### 2. What is the benefit of lambda?\n",
    "\n",
    "lambda is much faster that def statments.\n",
    "No need of assigning values to variables namespacing not needed.\n",
    "lambda returns the objects without using print statements.\n",
    "it is usefully when declaring anonymous functions."
   ]
  },
  {
   "cell_type": "markdown",
   "id": "c1df2a51-9a8d-4ee7-93b8-e5e4344b1541",
   "metadata": {
    "tags": []
   },
   "source": [
    "### 3. Compare and contrast map, filter, and reduce ?\n",
    "\n",
    "> reduce, filter & map are the 3 built-in functions in python for iterable manipulation.\n",
    "\n",
    "> map - map function takes 2 parameters: (function,iterables)\n",
    "    The function given in the parameter applies to all the iterable and finally gives map object(Iterator).\n",
    "    Always passes all the iterable elements into the function.\n",
    "    \n",
    "> Example :   \n",
    "\n",
    "     def add(s):\n",
    "       return s+1\n",
    "     s = [1,2,3,4,5]\n",
    "     list(map(add,s))\n",
    "\n",
    "    output : [2, 3, 4, 5, 6]\n",
    "    \n",
    "> filter - filter function takes 2 parameters: (function,iterables)   \n",
    "    The function given in the parameter applies to all the iterable and finally gives (Iterator).\n",
    "    We can convert iterators to sequences like lists, tuples, strings etc.\n",
    "    Always checks in termns of Boolean values and then passes iterable elements into the function.\n",
    "    Then filters the elements which matchs the boolean condition.\n",
    "    \n",
    "        def check(letter):\n",
    "      list_of_vowels = ['a', 'e', 'i', 'o', 'u']\n",
    "      if letter in list_of_vowels:\n",
    "          return True\n",
    "      else:\n",
    "          return False\n",
    "    letters = ['u', 'a', 'q', 'c', 'i', 'd', 'z', 'p', 'e']\n",
    "    filtered_object = filter(check, letters)\n",
    "\n",
    "    filtered_list = list(filtered_object)\n",
    "    print(\"The list of vowels is: \", filtered_list)\n",
    "    \n",
    "> reduce - reduce function takes 2 parameters: (function,iterables)   \n",
    "    The function given in the parameter applies to all the iterable and return single value as output.\n",
    "    At first step, first two elements of sequence are picked and the result is obtained.\n",
    "    Next step is to apply the same function to the previously attained result and the number just succeeding the second element and the result is again stored.\n",
    "    This process continues till no more elements are left in the container.\n",
    "    The final returned result is returned and printed on console.\n",
    "> reduce is different from map and filter whereas map and filter are similar.\n",
    "\n",
    "    from functools import reduce \n",
    "\n",
    "    nums = [1, 2, 3, 4]\n",
    "    ans = reduce(lambda x, y: x + y, nums)\n",
    "    print(ans) \n",
    "\n",
    "    Output : 10"
   ]
  },
  {
   "cell_type": "markdown",
   "id": "66949323-908b-44de-a649-bf8d83689d53",
   "metadata": {},
   "source": [
    "### 4. What are function annotations, and how are they used?\n",
    "\n",
    "* function annotations are the random expressions used in function. It was introduced in python 3.0 version without any specific version.\n",
    "* They are evaluated in compile time and doesnot exist in run time. "
   ]
  },
  {
   "cell_type": "markdown",
   "id": "1284a7aa-02b6-4f38-95c7-5421845e1116",
   "metadata": {},
   "source": [
    "### 5. What are recursive functions, and how are they used?\n",
    "\n",
    "* It is basically mathematical and programming concept. Recursive functions are the functions that calls itself.\n",
    "* We can use recursive functions to loop untill we reach the target.\n",
    "* Complicated function can be splitted into sub problems and then can be utilized.\n",
    "* recursive functions provides the code to look simple and effective."
   ]
  },
  {
   "cell_type": "markdown",
   "id": "5215f79e-46ed-45ba-bd1b-30259be43ace",
   "metadata": {},
   "source": [
    "### 6. What are some general design guidelines for coding functions?\n",
    "\n",
    "* By using standard headers for different moduls.\n",
    "* Indentation of the code is very important.\n",
    "* Exception handling must be written before the error return values.\n",
    "* Naming conventions for local variables, global variables, constants and functions.\n",
    "* Testable.\n",
    "* Readable and it includes comments for the code.\n",
    "* Safe\n",
    "* Secure\n",
    "* Maintable\n",
    "* Reliable\n",
    "* Portable"
   ]
  },
  {
   "cell_type": "markdown",
   "id": "6b16e763-a21c-4627-b292-e093861aee03",
   "metadata": {},
   "source": [
    "### 7. Name three or more ways that functions can communicate results to a caller.\n",
    "\n",
    "* Once the function is created we can call the function by writting the function name.\n",
    "* Function can be called inside another function by writing function name it is called nested. A function inside the another function.\n",
    "* If the program is complex then we can split the program into sub program and can call it in other file to maintain clean and effective code."
   ]
  }
 ],
 "metadata": {
  "kernelspec": {
   "display_name": "Python 3 (ipykernel)",
   "language": "python",
   "name": "python3"
  },
  "language_info": {
   "codemirror_mode": {
    "name": "ipython",
    "version": 3
   },
   "file_extension": ".py",
   "mimetype": "text/x-python",
   "name": "python",
   "nbconvert_exporter": "python",
   "pygments_lexer": "ipython3",
   "version": "3.10.6"
  }
 },
 "nbformat": 4,
 "nbformat_minor": 5
}
