{
 "cells": [
  {
   "cell_type": "code",
   "execution_count": 6,
   "id": "2eb06dd8",
   "metadata": {},
   "outputs": [
    {
     "name": "stdout",
     "output_type": "stream",
     "text": [
      "1 2 8\n"
     ]
    }
   ],
   "source": [
    "#1. What is the result of the code, and why?\n",
    "\n",
    "def func(a, b=6, c=8):\n",
    "    print(a, b, c)\n",
    "    \n",
    "func(1, 2)\n",
    "\n",
    "#The result is 1 2 8\n",
    "# It is because there are 3 parameters required and b,c is assigned with other values, \n",
    "# when calling the function a and b is assigned with new value 1,2 and c is not assigned a value so \n",
    "# it takes a old value which is assigned already and shows on the console"
   ]
  },
  {
   "cell_type": "code",
   "execution_count": 10,
   "id": "4d035616",
   "metadata": {},
   "outputs": [
    {
     "name": "stdout",
     "output_type": "stream",
     "text": [
      "1 2 3\n"
     ]
    }
   ],
   "source": [
    "# 2. What is the result of this code, and why?\n",
    "\n",
    "def func(a, b, c=5):\n",
    "    print(a, b, c)\n",
    "func(1, c=3, b=2)\n",
    "\n",
    "# The result is 1 2 3 \n",
    "# the value passed to a=1, b=2 and c=3 thus it gives a result of 1 2 3 as long as we are using named arguments."
   ]
  },
  {
   "cell_type": "code",
   "execution_count": 21,
   "id": "9c3d5aab",
   "metadata": {},
   "outputs": [
    {
     "name": "stdout",
     "output_type": "stream",
     "text": [
      "1 (2, 3)\n"
     ]
    }
   ],
   "source": [
    "# 3. How about this code: what is its result, and why?\n",
    "\n",
    "def func(a,*pargs):\n",
    "    print(a,pargs)\n",
    "func(1, 2, 3)\n",
    "\n",
    "# The result is 1 (2,3)\n",
    "# There are 2 arguments in the function 'a' takes a first value which is passed in the function call and \n",
    "# remaing values will assigned as arbitary arguments is the form of tuple. "
   ]
  },
  {
   "cell_type": "code",
   "execution_count": 25,
   "id": "84221ee1",
   "metadata": {},
   "outputs": [
    {
     "name": "stdout",
     "output_type": "stream",
     "text": [
      "1 {'c': 3, 'b': 2}\n"
     ]
    }
   ],
   "source": [
    "# 4. What does this code print, and why?\n",
    "\n",
    "def func(a, **kargs):\n",
    "    print(a, kargs)\n",
    "func(a=1, c=3, b=2)\n",
    "\n",
    "# Result = it prints 1{'c':3, 'b':2}\n",
    "# The first named argument a takes a=1 and the remaining arguments will become kargs dictionary type object. "
   ]
  },
  {
   "cell_type": "code",
   "execution_count": 28,
   "id": "4ce54834",
   "metadata": {},
   "outputs": [
    {
     "name": "stdout",
     "output_type": "stream",
     "text": [
      "1 5 6 5\n"
     ]
    }
   ],
   "source": [
    "#5. What gets printed by this, and explain?\n",
    "\n",
    "def func(a, b, c=8, d=5): print(a, b, c, d)\n",
    "func(1, *(5, 6))\n",
    "\n",
    "# Result is 1 5 6 5\n",
    "# (a=1 b= 5 c=6 d=5) a will take the first value 1 and arbitary arguments is given in the function call as tuple that will \n",
    "# occupy b=5 and c=6 and the left over argument d results the default value."
   ]
  },
  {
   "cell_type": "code",
   "execution_count": 68,
   "id": "733d4702",
   "metadata": {},
   "outputs": [
    {
     "data": {
      "text/plain": [
       "(1, ['x'], {'a': 'y'})"
      ]
     },
     "execution_count": 68,
     "metadata": {},
     "output_type": "execute_result"
    }
   ],
   "source": [
    "# 6. what is the result of this, and explain?\n",
    "\n",
    "def func(a, b, c): a = 2; b[0] = 'x'; c['a'] = 'y'\n",
    "l=1; m=[1]; n={'a':0}\n",
    "func(l, m, n)\n",
    "l, m, n\n",
    "\n",
    "# Result is (1, ['x'], {'a':'y'})\n",
    "\n",
    "# l,m,n values remains unchanged and copies of that the function will update but not original."
   ]
  }
 ],
 "metadata": {
  "kernelspec": {
   "display_name": "Python 3 (ipykernel)",
   "language": "python",
   "name": "python3"
  },
  "language_info": {
   "codemirror_mode": {
    "name": "ipython",
    "version": 3
   },
   "file_extension": ".py",
   "mimetype": "text/x-python",
   "name": "python",
   "nbconvert_exporter": "python",
   "pygments_lexer": "ipython3",
   "version": "3.9.12"
  }
 },
 "nbformat": 4,
 "nbformat_minor": 5
}
