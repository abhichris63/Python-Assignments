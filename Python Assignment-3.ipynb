{
 "cells": [
  {
   "cell_type": "markdown",
   "id": "741afabc",
   "metadata": {},
   "source": [
    "1. Why are functions advantageous to have in your programs?\n",
    "\n",
    "Because it will be easy to use that particular function frequently when ever it is needed.It reduces the need for duplicate code and it is easy to update, makes long program to small, easier to read. "
   ]
  },
  {
   "cell_type": "markdown",
   "id": "4174a19e",
   "metadata": {},
   "source": [
    "2. When does the code in a function run: when it's specified or when it's called?\n",
    "\n",
    "The function is a piece of code it runs when it is referenced, when the function is called using the function name it runs."
   ]
  },
  {
   "cell_type": "markdown",
   "id": "8cf71d19",
   "metadata": {},
   "source": [
    "3. What statement creates a function?\n",
    "\n",
    "\"def\" keyword creates a function, giving one or more parameters inside the parenthesis and after that colon.\n",
    "\n",
    "def abhi():\n",
    "    return \"Hello\"\n",
    "    \n",
    " calling function name \n",
    " abhi()\n",
    " output:'Hello'"
   ]
  },
  {
   "cell_type": "markdown",
   "id": "82fb06a4",
   "metadata": {},
   "source": [
    "4. What is the difference between a function and a function call?\n",
    "\n",
    "function is piece of code or set of code which performs a particular operation and returns a result,\n",
    "it usually takes inputs from parameters and returns a result, the parameters are not mandatory.\n",
    "function call means invoking or calling function through caling the name of the function example : test()\n",
    "    and returns a result."
   ]
  },
  {
   "cell_type": "markdown",
   "id": "1a029d80",
   "metadata": {},
   "source": [
    "5. How many global scopes are there in a Python program? How many local scopes?\n",
    "\n",
    "There are only one global scope per program in python programming language and if we want to convert local variable to global variable inside the funtion we have to give global keyword. The scope of global variables is the entire program whereas the scope of local variable is limited to the function where it is defined. "
   ]
  },
  {
   "cell_type": "markdown",
   "id": "73ea6c91",
   "metadata": {},
   "source": [
    "6. What happens to variables in a local scope when the function call returns?\n",
    "\n",
    "When the function call returns the values the local variables are destroyed.\n",
    "The local variables will become undefined after the function calls."
   ]
  },
  {
   "cell_type": "markdown",
   "id": "04be4c63",
   "metadata": {},
   "source": [
    "7. What is the concept of a return value? Is it possible to have a return value in an expression?\n",
    "\n",
    "The return statement returns the result and ends the execution of the program of function call.\n",
    "Yes it is possible to have return statement in an expression.\n",
    "\n",
    "example:\n",
    "def abhi():\n",
    "    a = 5+10\n",
    "    b = 5+10\n",
    "    return a+b\n",
    "    \n",
    "Output:abhi()\n",
    "30"
   ]
  },
  {
   "cell_type": "markdown",
   "id": "a168273d",
   "metadata": {},
   "source": [
    "8. If a function does not have a return statement, what is the return value of a call to that function?\n",
    "\n",
    "NoneType\n",
    "\n",
    "\n",
    "Example : \n",
    "def abhi():\n",
    "    print(\"Hello\")\n",
    "    \n",
    "Output:type(abhi())\n",
    "       Hello\n",
    "       NoneType"
   ]
  },
  {
   "cell_type": "markdown",
   "id": "bc3895f8",
   "metadata": {},
   "source": [
    "9. How do you make a function variable refer to the global variable?\n",
    "\n",
    "By using \"global\" keyword do declare which variables are global. "
   ]
  },
  {
   "cell_type": "markdown",
   "id": "c89c45fe",
   "metadata": {},
   "source": [
    "10. What is the data type of None?\n",
    "\n",
    "None keyword is an object it is a datatype of class NoneType.\n",
    "None keyword is used to define null variable."
   ]
  },
  {
   "cell_type": "markdown",
   "id": "dc9b11c3",
   "metadata": {},
   "source": [
    "11. What does the sentence import areallyourpetsnamederic do?\n",
    "\n",
    "This throws an ModuleNotFoundError that says no module named 'areallyourpetsnamederic'"
   ]
  },
  {
   "cell_type": "markdown",
   "id": "79cbe831",
   "metadata": {},
   "source": [
    "12. If you had a bacon() feature in a spam module, what would you call it after importing spam?\n",
    "\n",
    "spam.bacon()"
   ]
  },
  {
   "cell_type": "markdown",
   "id": "ee1a3b41",
   "metadata": {},
   "source": [
    "13. What can you do to save a programme from crashing if it encounters an error?\n",
    "\n",
    "When it encounters an error we can throw an error message instead of crashing the program so that we can rectify it through try and except Error Exceptions in python."
   ]
  },
  {
   "cell_type": "markdown",
   "id": "9245dab8",
   "metadata": {},
   "source": [
    "14. What is the purpose of the try clause? What is the purpose of the except clause?\n",
    "\n",
    "The try clause is used to check some code for errors in try block if it doesnot found any error in the code it executes the program and if the except block executes whenever it encounters error in try block."
   ]
  }
 ],
 "metadata": {
  "kernelspec": {
   "display_name": "Python 3",
   "language": "python",
   "name": "python3"
  },
  "language_info": {
   "codemirror_mode": {
    "name": "ipython",
    "version": 3
   },
   "file_extension": ".py",
   "mimetype": "text/x-python",
   "name": "python",
   "nbconvert_exporter": "python",
   "pygments_lexer": "ipython3",
   "version": "3.8.8"
  }
 },
 "nbformat": 4,
 "nbformat_minor": 5
}
