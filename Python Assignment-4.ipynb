{
 "cells": [
  {
   "cell_type": "markdown",
   "id": "fe250de3",
   "metadata": {},
   "source": [
    "# PYTHON ASSIGNMENT - 4"
   ]
  },
  {
   "cell_type": "markdown",
   "id": "56924bd1",
   "metadata": {},
   "source": [
    "1. What exactly is []?\n",
    "\n",
    "A: The list is created using square brackets [] seperating by commas."
   ]
  },
  {
   "cell_type": "markdown",
   "id": "bc7a61db",
   "metadata": {},
   "source": [
    "2. In a list of values stored in a variable called spam, how would you assign the value 'hello' as the third value? (Assume [2, 4, 6, 8, 10] are in spam.)\n",
    "\n",
    "A :spam = [2,4,6,8,10]\n",
    "   spam[2]=\"hello\"\n",
    "\n",
    "    output: spam [2, 4, 'hello', 8, 10]"
   ]
  },
  {
   "cell_type": "markdown",
   "id": "139ff8d5",
   "metadata": {},
   "source": [
    "Let's pretend the spam includes the list ['a', 'b', 'c', 'd'] for the next three queries\n"
   ]
  },
  {
   "cell_type": "markdown",
   "id": "3695e87f",
   "metadata": {},
   "source": [
    "3. What is the value of spam[int(int('3' * 2) / 11)]?\n",
    "\n",
    "A: spam = ['a','b','c','d']\n",
    "\n",
    "   spam[int(int('3' * 2) / 11)]\n",
    "\n",
    "   output='d'"
   ]
  },
  {
   "cell_type": "markdown",
   "id": "784edae2",
   "metadata": {},
   "source": [
    "4. What is the value of spam[-1]?\n",
    "\n",
    "A: spam = ['a','b','c','d']\n",
    "   spam[-1]\n",
    "\n",
    "   ouput: 'd'"
   ]
  },
  {
   "cell_type": "markdown",
   "id": "23addc8a",
   "metadata": {},
   "source": [
    "5. What is the value of spam[:2]?\n",
    "\n",
    "spam = ['a','b','c','d']\n",
    "spam[:2]\n",
    "\n",
    "output: ['a', 'b']"
   ]
  },
  {
   "cell_type": "markdown",
   "id": "f40fa820",
   "metadata": {},
   "source": [
    "Let's pretend bacon has the list [3.14, 'cat,' 11, 'cat,' True] for the next three questions."
   ]
  },
  {
   "cell_type": "markdown",
   "id": "39735b9c",
   "metadata": {},
   "source": [
    "6. What is the value of bacon.index('cat')?\n",
    "\n",
    "bacon=[3.14, 'cat', 11, 'cat', True]\n",
    "bacon.index('cat')\n",
    "output:1"
   ]
  },
  {
   "cell_type": "markdown",
   "id": "5d3beab0",
   "metadata": {},
   "source": [
    "7. How does bacon.append(99) change the look of the list value in bacon?\n",
    "\n",
    "bacon=[3.14, 'cat', 11, 'cat', True]\n",
    "bacon.append(99)\n",
    "bacon\n",
    "[3.14, 'cat', 11, 'cat', True, 99]\n",
    "\n",
    "append() is an method by append() method adds a single item to an existing list and doesnot return a new list but adds an item to an existing list \n",
    "and after executing the append() method the size of the list increases by one."
   ]
  },
  {
   "cell_type": "markdown",
   "id": "8583c455",
   "metadata": {},
   "source": [
    "8. How does bacon.remove('cat') change the look of the list in bacon?\n",
    "\n",
    "bacon=[3.14, 'cat', 11, 'cat', True]\n",
    "bacon.remove('cat')\n",
    "bacon\n",
    "\n",
    "output: [3.14, 11, 'cat', True]\n",
    "    \n",
    "remove() is an method which removes the first occurrence of the element."
   ]
  },
  {
   "cell_type": "markdown",
   "id": "8e79e991",
   "metadata": {},
   "source": [
    "9. What are the list concatenation and list replication operators?\n",
    "\n",
    "list concatenation operators is : \"+\"\n",
    "list replication operators is : \"*\""
   ]
  },
  {
   "cell_type": "markdown",
   "id": "93707a07",
   "metadata": {},
   "source": [
    "10. What is difference between the list methods append() and insert()?\n",
    "\n",
    "append() method adds an new element in already existing list at the end of the list and index will be increases by one.\n",
    "insert() method can add a new element in already existing list at the required position and value through index and item.\n",
    "\n",
    "lst=[4,5,3,5,3]\n",
    "\n",
    "lst.append(\"abhi\")\n",
    "lst\n",
    "\n",
    "output: [4, 5, 3, 5, 3, 'abhi']\n",
    "\n",
    "lst.insert(2,\"abhi\")\n",
    "lst\n",
    "\n",
    "output: [4, 5, 'abhi', 3, 5, 3, 'abhi']"
   ]
  },
  {
   "cell_type": "markdown",
   "id": "46c95194",
   "metadata": {},
   "source": [
    "11. What are the two methods for removing items from a list?\n",
    "\n",
    "remove() \n",
    "pop()"
   ]
  },
  {
   "cell_type": "markdown",
   "id": "19c64ec9",
   "metadata": {},
   "source": [
    "12. Describe how list values and string values are identical.\n",
    "\n",
    "Firstly list are mutable and string are immutable.\n",
    "Secondly list is a sequence of elements of different datatypes whereas string are also sequence but only in characters of string type cannot use different datatypes as list.  "
   ]
  },
  {
   "cell_type": "markdown",
   "id": "ad391e73",
   "metadata": {},
   "source": [
    "13. What's the difference between tuples and lists?\n",
    "\n",
    "Tuples are immutable and lists are mutable. \n",
    "Tuples consumes less memory and lists consumes more memory.\n",
    "In tuples iteration is less time comsuming whereas in lists iteration is more time consuming.\n",
    "Tuples have less built-in methods whereas lists have more methods than tuples.\n"
   ]
  },
  {
   "cell_type": "markdown",
   "id": "5c978867",
   "metadata": {},
   "source": [
    "14. How do you type a tuple value that only contains the integer 42?\n",
    "\n",
    "t=(42)\n",
    "   t\n",
    "   output: 42"
   ]
  },
  {
   "cell_type": "markdown",
   "id": "7c763e5d",
   "metadata": {},
   "source": [
    "15. How do you get a list value's tuple form? How do you get a tuple value's list form?\n",
    "\n",
    "list values in tuple form\n",
    "\n",
    "l=[\"hello\",353,\"there\",67.3]\n",
    "a=tuple(l)\n",
    "a\n",
    "output: ('hello', 353, 'there', 67.3)\n",
    "\n",
    "tuple values in list form\n",
    "\n",
    "t=(\"hey\",353,\"there\",67.3)\n",
    "a=list(t)\n",
    "a\n",
    "output: ['hey', 353, 'there', 67.3]"
   ]
  },
  {
   "cell_type": "markdown",
   "id": "7ce70e5f",
   "metadata": {},
   "source": [
    "16. Variables that \"contain\" list values are not necessarily lists themselves. Instead, what do they contain?\n",
    "\n",
    "Variables will contain references to list values rathan than list values themselves and for strings values and integer values variables will simply contain the string and integer values."
   ]
  },
  {
   "cell_type": "markdown",
   "id": "bbc5881d",
   "metadata": {},
   "source": [
    "17. How do you distinguish between copy.copy() and copy.deepcopy()?\n",
    "\n",
    "A shallow copy creates a new object which stores the reference of the original elements.\n",
    "So, a shallow copy doesn't create a copy of nested objects, instead it just copies the reference of nested objects. The copy process does not recurse or create copies of nested objects itself.\n",
    "\n",
    "A deep copy creates a new object and recursively adds the copies of nested objects present in the original elements.\n"
   ]
  }
 ],
 "metadata": {
  "kernelspec": {
   "display_name": "Python 3",
   "language": "python",
   "name": "python3"
  },
  "language_info": {
   "codemirror_mode": {
    "name": "ipython",
    "version": 3
   },
   "file_extension": ".py",
   "mimetype": "text/x-python",
   "name": "python",
   "nbconvert_exporter": "python",
   "pygments_lexer": "ipython3",
   "version": "3.8.8"
  }
 },
 "nbformat": 4,
 "nbformat_minor": 5
}
