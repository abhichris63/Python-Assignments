{
 "cells": [
  {
   "cell_type": "markdown",
   "id": "f329494f",
   "metadata": {},
   "source": [
    "# Python Assignment-12"
   ]
  },
  {
   "cell_type": "raw",
   "id": "a3faa52b",
   "metadata": {},
   "source": [
    "1. In what modes should the PdfFileReader() and PdfFileWriter() File objects will be opened?\n",
    "PdfFileReader() will be opened in binary mode, read binary (rb)\n",
    "PdfFileWriter() will be opened in binary mode, write binary (wb)"
   ]
  },
  {
   "cell_type": "raw",
   "id": "98fa123b",
   "metadata": {},
   "source": [
    "2. From a PdfFileReader object, how do you get a Page object for page 5?\n",
    "\n",
    "pip install PyPDF2\n",
    "import PyPDF2 as pdf\n",
    "\n",
    "pdfFile = open('Cloud-Computing-Unit-1.pdf','rb')\n",
    "fileReader = pdf.PdfFileReader(pdfFile)\n",
    "pageReader = fileReader.getPage(4)\n",
    "pageReader.extractText()\n",
    "\n",
    "\n",
    "Output :\n",
    "\n",
    "'Architecture of cloud computing  \\ncloud computing technology is used by both small and large organizations to  store the \\ninformation  in cloud and  access  it from anywhere at any time using the internet connection. \\nCloud computing architecture is a combination of  service -oriented architecture  and event -\\ndriven architecture. Cloud computing architecture is divided into the following two parts - \\nFront End and Back End.  \\nFront End  \\nThe front end is used by the client. It contains client -side interfaces and applications that are \\nrequired to access the cloud computing platforms. The front end includes web servers \\n(including Chrome, Firefox, internet explorer, etc.), thin & fat clients, tablets, and mobile \\ndevices.  \\nBack End  \\nThe back end is used by the service provider. It manages all the resour ces that are required to \\nprovide cloud computing services. It includes a huge amount of data storage, security \\nmechanism, virtual machines, deploying models, servers, traffic control mechanisms, etc.  \\nComponents of Cloud Computing Architecture  \\nThere are the  following components of cloud computing architecture - \\n1. Client Infrastructure : Client Infrastructure is a Front -end component. It provides GUI \\n(Graphical User Interface)  to interact with the cloud.  \\n2. Application : The application may be any software or platform that a client wants to access.  \\n3. Service : A Cloud Services manages that which type of service you access according to the \\nclient’s requirement.  \\nCloud computing offers the following three type of services:  \\ni. Software as a Service (SaaS) – It is a lso known as  cloud application services . Mostly, SaaS \\napplications run directly through the web browser means we do not require to download and \\ninstall these applications. Some important example of SaaS is given below – \\nExample:  Google Apps, Salesforce Dropbox, Slack, Hubspot, Cisco WebEx.  \\nii. Platform as a Service (PaaS) – It is also known as  cloud platform  services . It is quite \\nsimilar to SaaS, but the difference is that PaaS provides a platform for software creation, but \\nusing  SaaS, we can access software over the internet without the need of any platform.  \\nExample:  Windows Azure, Force.com, Magento Commerce Cloud, OpenShift.  \\niii. Infrastructure as a Service (IaaS) – It is also known as  cloud infrastructure services . It \\nis respo nsible for managing applications data, middleware, and runtime environments.  \\nExample:  Amazon Web Services (AWS) EC2, Google Compute Engine (GCE), Cisco \\nMetapod."
   ]
  },
  {
   "cell_type": "raw",
   "id": "a70e6fde",
   "metadata": {},
   "source": [
    "3. What PdfFileReader variable stores the number of pages in the PDF document?\n",
    "\n",
    "import PyPDF2 as pdf\n",
    "\n",
    "pdfFieObj = open('Cloud-Computing-Unit-1.pdf','rb')\n",
    "pdfReader = pdf.PdfFileReader(pdfFieObj)\n",
    "pdfReader.numPages\n",
    "\n",
    "Output: 32"
   ]
  },
  {
   "cell_type": "raw",
   "id": "3daa1e5c",
   "metadata": {},
   "source": [
    "4. If a PdfFileReader object’s PDF is encrypted with the password swordfish, what must you do\n",
    "before you can obtain Page objects from it?\n",
    "\n",
    "Before we can obtain page Objects from it we can call .decrypt('swordfish')"
   ]
  },
  {
   "cell_type": "raw",
   "id": "5f12e7b8",
   "metadata": {},
   "source": [
    "5. What methods do you use to rotate a page?\n",
    "\n",
    "fileObj.rotateClockwise(180)\n",
    "\n",
    "rotateClockwise() and rotateCounterClockwise() methods are used.\n",
    "In the argument the integer is passed as an degree to rotate"
   ]
  },
  {
   "cell_type": "raw",
   "id": "a5156a0b",
   "metadata": {},
   "source": [
    "6. What is the difference between a Run object and a Paragraph object ?\n",
    "\n",
    "Paragraph Object : A new paragrapgh starts whenever the user press enter or return while typing in a word document.\n",
    "The document contains multiple paragraphs the paragraph begins on a new line and contains multiple runs.\n",
    "\n",
    "Run Object : With a same style runs on Contiguous of characters within the paragrapgh."
   ]
  },
  {
   "cell_type": "raw",
   "id": "723d3c6c",
   "metadata": {},
   "source": [
    "7. How do you obtain a list of Paragraph objects for a Document object that’s stored in a variable\n",
    "named doc?\n",
    "\n",
    "!pip install python-docx\n",
    "import docx\n",
    "doc = docx.Document('abc.docx')\n",
    "doc.paragraphs\n",
    "\n",
    "\n",
    "by calling doc.paragraphs"
   ]
  },
  {
   "cell_type": "raw",
   "id": "00d60a4e",
   "metadata": {},
   "source": [
    "8. What type of object has bold, underline, italic, strike, and outline variables?\n",
    "\n",
    "A Run object has bold,underline,italic,strike and outline variables"
   ]
  },
  {
   "cell_type": "raw",
   "id": "82db241d",
   "metadata": {},
   "source": [
    "9. What is the difference between False, True, and None for the bold variable?\n",
    "\n",
    "True : The attribute is always enabled.\n",
    "False : The attribute is always disabled.\n",
    "None : It is defaulted to the style that run is set to."
   ]
  },
  {
   "cell_type": "raw",
   "id": "2305d7ec",
   "metadata": {},
   "source": [
    "10. How do you create a Document object for a new Word document?\n",
    "\n",
    "by calling docx.Document() function"
   ]
  },
  {
   "cell_type": "raw",
   "id": "b36798a9",
   "metadata": {},
   "source": [
    "11. How do you add a paragraph with the text &#39;Hello, there!&#39; to a Document object stored in a\n",
    "variable named doc?\n",
    "\n",
    "import docx\n",
    "\n",
    "doc = docx.Document()\n",
    "\n",
    "doc.add_paragraph('&#39;Hello')\n",
    "doc.add_paragraph('there!&#39')\n",
    "doc.save('Hello.docx')"
   ]
  },
  {
   "cell_type": "raw",
   "id": "20db94a2",
   "metadata": {},
   "source": [
    "12. What integers represent the levels of headings available in Word documents?\n",
    "\n",
    "There are integers 0-9 levels of headings available.\n",
    "When 0 is set the string is passed inside the argument will be title.\n",
    "From 1 - 9 is sets the string to headings in a document, when it is increased gradually from 1 to 9 the size of a string will decrease. If there is no argument passed by default it will take as 1."
   ]
  }
 ],
 "metadata": {
  "kernelspec": {
   "display_name": "Python 3 (ipykernel)",
   "language": "python",
   "name": "python3"
  },
  "language_info": {
   "codemirror_mode": {
    "name": "ipython",
    "version": 3
   },
   "file_extension": ".py",
   "mimetype": "text/x-python",
   "name": "python",
   "nbconvert_exporter": "python",
   "pygments_lexer": "ipython3",
   "version": "3.9.12"
  }
 },
 "nbformat": 4,
 "nbformat_minor": 5
}
