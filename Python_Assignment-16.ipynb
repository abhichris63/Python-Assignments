{
 "cells": [
  {
   "cell_type": "markdown",
   "id": "e400ef84",
   "metadata": {},
   "source": [
    "# Python_Assignment-16"
   ]
  },
  {
   "cell_type": "raw",
   "id": "ab9de741",
   "metadata": {},
   "source": [
    "1. Create a list called years_list, starting with the year of your birth, and each year thereafter until\n",
    "the year of your fifth birthday. For example, if you were born in 1980. the list would be years_list =\n",
    "[1980, 1981, 1982, 1983, 1984, 1985].\n",
    "\n",
    "years_list = [1996,1997,1998,1999,2000,2001]"
   ]
  },
  {
   "cell_type": "raw",
   "id": "7ed73cc2",
   "metadata": {},
   "source": [
    "2. In which year in years_list was your third birthday? Remember, you were 0 years of age for your\n",
    "first year.\n",
    "\n",
    "2000 is my third birthday"
   ]
  },
  {
   "cell_type": "raw",
   "id": "da307bec",
   "metadata": {},
   "source": [
    "3.In the years list, which year were you the oldest\n",
    "\n",
    "2001 was the oldest year."
   ]
  },
  {
   "cell_type": "raw",
   "id": "e968da03",
   "metadata": {},
   "source": [
    "4. Make a list called things with these three strings as elements:'mozzarella', 'cinderella','salmonella'.\n",
    "\n",
    "things = [\"mozzarella\", \"cinderella\",\n",
    "\"salmonella\"]"
   ]
  },
  {
   "cell_type": "raw",
   "id": "c925b76e",
   "metadata": {},
   "source": [
    "5. Capitalize the element in things that refers to a person and then print the list. Did it change the\n",
    "element in the list?\n",
    "\n",
    "for i in things:\n",
    "    cap = i.capitalize()\n",
    "    print(cap)\n",
    "things\n",
    "\n",
    "# list original values will not be updated or changed when we use Capitalize() function."
   ]
  },
  {
   "cell_type": "raw",
   "id": "33e602a1",
   "metadata": {},
   "source": [
    "6. Make a surprise list with the elements \"Groucho\", \"Chico\", and \"Harpo\".\n",
    "\n",
    "surprise_list = [\"Groucho\", \"Chico\", \"Harpo\"]\n",
    "surprise_list"
   ]
  },
  {
   "cell_type": "raw",
   "id": "ff8f142e",
   "metadata": {},
   "source": [
    "7. Lowercase the last element of the surprise list, reverse it, and then capitalize it.\n",
    "\n",
    "surprise_list = [\"Groucho\", \"Chico\", \"Harpo\"]\n",
    "\n",
    "#lowercase:\n",
    "\n",
    "surprise_lowercase = surprise_list[-1].lower()\n",
    "print(surprise_lowercase)\n",
    "\n",
    "#Reversing_list:\n",
    "\n",
    "list_reverse = surprise_lowercase[::-1]\n",
    "print(list_reverse)\n",
    "\n",
    "#Capitalizing_list:\n",
    "\n",
    "surprise_capitalize = list_reverse.capitalize()\n",
    "print(surprise_capitalize)\n",
    "\n",
    "\n",
    "Output:\n",
    "\n",
    "harpo\n",
    "oprah\n",
    "Oprah"
   ]
  },
  {
   "cell_type": "raw",
   "id": "f6b0f4d8",
   "metadata": {},
   "source": [
    "8. Make an English-to-French dictionary called e2f and print it. Here are your starter words: dog is\n",
    "chien, cat is chat, and walrus is morse.\n",
    "\n",
    "e2f = {'dog':'chien', 'cat':'chat', 'walrus':'morse'}"
   ]
  },
  {
   "cell_type": "raw",
   "id": "f7e07b7c",
   "metadata": {},
   "source": [
    "9. Write the French word for walrus in your three-word dictionary e2f.\n",
    "\n",
    "e2f['walrus']\n",
    "\n",
    "output:\n",
    "    morse"
   ]
  },
  {
   "cell_type": "raw",
   "id": "9a05e3f8",
   "metadata": {},
   "source": [
    "10. Make a French-to-English dictionary called f2e from e2f. Use the items method.\n",
    "\n",
    "e2f = {'dog':'chien', 'cat':'chat', 'walrus':'morse'}\n",
    "\n",
    "f2e = dict((key,value) for value,key in e2f.items())\n",
    "f2e\n",
    "\n",
    "output:\n",
    "    {'chien': 'dog', 'chat': 'cat', 'morse': 'walrus'}"
   ]
  },
  {
   "cell_type": "raw",
   "id": "011b5cd7",
   "metadata": {},
   "source": [
    "11. Print the English version of the French word chien using f2e.\n",
    "\n",
    "f2e['chien']"
   ]
  },
  {
   "cell_type": "raw",
   "id": "db097b49",
   "metadata": {},
   "source": [
    "12. Make and print a set of English words from the keys in e2f.\n",
    "\n",
    "e2f.keys()\n",
    "\n",
    "dict_keys(['dog', 'cat', 'walrus'])"
   ]
  },
  {
   "cell_type": "raw",
   "id": "53c6e9b2",
   "metadata": {},
   "source": [
    "13. Make a multilevel dictionary called life. Use these strings for the topmost keys: 'animals', 'plants', and 'other'. Make the 'animals' key refer to another dictionary with the keys 'cats', 'octopi', and 'emus'. Make the 'cats' key refer to a list of strings with the values 'Henri', 'Grumpy', and 'Lucy'. Make all the other keys refer to empty dictionaries.\n",
    "\n",
    "\n",
    "life = {'animals':{'cats':['Henri','Grumpy','Lucky'],\n",
    "                  'octopi':'',\n",
    "                  'emus':''},\n",
    "        'plants':'',\n",
    "        'other':'',}\n",
    "\n",
    "life\n",
    "\n",
    "Output:\n",
    "{'animals': {'cats': ['Henri', 'Grumpy', 'Lucky'], 'octopi': '', 'emus': ''},\n",
    " 'plants': '',\n",
    " 'other': ''}\n"
   ]
  },
  {
   "cell_type": "raw",
   "id": "f8c8747e",
   "metadata": {},
   "source": [
    "14. Print the top-level keys of life.\n",
    "\n",
    "life = {'animals':{'cats':['Henri','Grumpy','Lucky'],\n",
    "                  'octopi':'',\n",
    "                  'emus':''},\n",
    "        'plants':'',\n",
    "        'other':'',}\n",
    "\n",
    "life.keys()\n",
    "\n",
    "Output:\n",
    "dict_keys(['animals', 'plants', 'other'])"
   ]
  },
  {
   "cell_type": "raw",
   "id": "20959310",
   "metadata": {},
   "source": [
    "15. Print the keys for life['animals'].\n",
    "                            \n",
    "life = {'animals':{'cats':['Henri','Grumpy','Lucky'],\n",
    "                  'octopi':'',\n",
    "                  'emus':''},\n",
    "        'plants':'',\n",
    "        'other':'',}\n",
    "\n",
    "life['animals'].keys()\n",
    "\n",
    "Output:\n",
    "dict_keys(['cats', 'octopi', 'emus'])"
   ]
  },
  {
   "cell_type": "raw",
   "id": "ac2752c6",
   "metadata": {},
   "source": [
    "16. Print the values for life['animals']['cat']\n",
    "\n",
    "life = {'animals':{'cats':['Henri','Grumpy','Lucky'],\n",
    "                  'octopi':'',\n",
    "                  'emus':''},\n",
    "        'plants':'',\n",
    "        'other':'',}\n",
    "\n",
    "life['animals']['cats']\n",
    "\n",
    "Output:\n",
    "['Henri', 'Grumpy', 'Lucky']"
   ]
  }
 ],
 "metadata": {
  "kernelspec": {
   "display_name": "Python 3 (ipykernel)",
   "language": "python",
   "name": "python3"
  },
  "language_info": {
   "codemirror_mode": {
    "name": "ipython",
    "version": 3
   },
   "file_extension": ".py",
   "mimetype": "text/x-python",
   "name": "python",
   "nbconvert_exporter": "python",
   "pygments_lexer": "ipython3",
   "version": "3.9.12"
  }
 },
 "nbformat": 4,
 "nbformat_minor": 5
}
