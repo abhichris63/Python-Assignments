{
 "cells": [
  {
   "cell_type": "markdown",
   "id": "a74acdc2",
   "metadata": {},
   "source": [
    "# PYTHON ASSIGNMENT - 7"
   ]
  },
  {
   "cell_type": "raw",
   "id": "e49134b0",
   "metadata": {},
   "source": [
    "1. What is the name of the feature responsible for generating Regex objects?\n",
    "\n",
    "import re\n",
    "re.compile()"
   ]
  },
  {
   "cell_type": "raw",
   "id": "8dda9ac0",
   "metadata": {},
   "source": [
    "2. Why do raw strings often appear in Regex objects?\n",
    "Raw strings are used because backlashes do not need to be escaped"
   ]
  },
  {
   "cell_type": "raw",
   "id": "65cc346f",
   "metadata": {},
   "source": [
    "3. What is the return value of the search() method?\n",
    "search() method takes two parameters and returns a match object if there is a match and if there is more than one match it returns a first occurance in a match"
   ]
  },
  {
   "cell_type": "raw",
   "id": "2274f73f",
   "metadata": {},
   "source": [
    "4. From a Match item, how do you get the actual strings that match the pattern?\n",
    "Using group() method the text which is matched returns strings of the matched text."
   ]
  },
  {
   "cell_type": "raw",
   "id": "69842a77",
   "metadata": {},
   "source": [
    "5. In the regex which created from the r'(\\d\\d\\d)-(\\d\\d\\d-\\d\\d\\d\\d)', what does group zero cover? Group 2? Group 1?\n",
    "\n",
    "group(0) covers returns entire match\n",
    "group(2) covers second set of parentheses match\n",
    "group(1) returns first set of parentheses match"
   ]
  },
  {
   "cell_type": "raw",
   "id": "824b365c",
   "metadata": {},
   "source": [
    "6. In standard expression syntax, parentheses and intervals have distinct meanings. How can you tell a regex that you want it to fit real parentheses and periods?\n",
    "\n",
    "Parenthesis and Periods can be escaped using backslash.\n",
    "for Example : \\. , \\( , \\)"
   ]
  },
  {
   "cell_type": "raw",
   "id": "2cb6c141",
   "metadata": {},
   "source": [
    "7. The findall() method returns a string list or a list of string tuples. What causes it to return one of the two options?\n",
    "\n",
    "If the regex has no groups a list of strings is returned and if the regex has groups then the list of tuples of strings will returns. "
   ]
  },
  {
   "cell_type": "raw",
   "id": "6fdc832e",
   "metadata": {},
   "source": [
    "8. In standard expressions, what does the | character mean ?\n",
    "\n",
    "| This character Means or Matches with any of the characters seperated by this | character"
   ]
  },
  {
   "cell_type": "raw",
   "id": "905c49c1",
   "metadata": {},
   "source": [
    "9. In regular expressions, what does the | character stand for?\n",
    "\n",
    "Matching Either or Between 2 groups \n"
   ]
  },
  {
   "cell_type": "raw",
   "id": "c8ec4a95",
   "metadata": {},
   "source": [
    "10.In regular expressions, what is the difference between the + and * characters?\n",
    "\n",
    "+ one or more Occurences\n",
    "* Any number of occurence including zero occurences"
   ]
  },
  {
   "cell_type": "raw",
   "id": "b4d01ffb",
   "metadata": {},
   "source": [
    "11. What is the difference between {4} and {4,5} in regular expression?\n",
    "\n",
    "The {4} matches exactly four instances of the preceding group.\n",
    "The {4,5} matches between four and five instances."
   ]
  },
  {
   "cell_type": "raw",
   "id": "cb982b2e",
   "metadata": {},
   "source": [
    "12. What do you mean by the \\d, \\w, and \\s shorthand character classes signify in regular expressions?\n",
    "\n",
    "The Shorthand character: \n",
    "\n",
    "\\d This is digit character class represents the regex range from [0-9] and it will match single digit character.\n",
    "\n",
    "\\w This is word character class that represents the regex range [A-Za-z0-9_] and it will match a single uppercase and lowercase character, digit and underscore.\n",
    "\n",
    "\\s This is whitespace character class that represents the regex range matching a single space."
   ]
  },
  {
   "cell_type": "raw",
   "id": "7ff5763e",
   "metadata": {},
   "source": [
    "13. What do means by \\D, \\W, and \\S shorthand character classes signify in regular expressions?\n",
    "\n",
    "\\D This is non-digit character class represents the regex range [^0-9] which matches any character that is not included in the range represented by \\d\n",
    "\n",
    "\\W This is non-word character class represents the regex range [^A-Za-z0-9_] which matches any characters is not included in the range represented by \\w\n",
    "\n",
    "\\S This is non-whitespace character class represents the regex range [^ \\t \\r \\n \\v] which matches any character that is not included in the range represented by /s\n"
   ]
  },
  {
   "cell_type": "raw",
   "id": "eb641028",
   "metadata": {},
   "source": [
    "14. What is the difference between .*? and .*?\n"
   ]
  },
  {
   "cell_type": "raw",
   "id": "7a75614c",
   "metadata": {},
   "source": [
    "15. What is the syntax for matching both numbers and lowercase letters with a character class?\n",
    "\n",
    "[0-9a-z] or [a-z0-9] can be used to match numbers and lowercase letters"
   ]
  },
  {
   "cell_type": "raw",
   "id": "2b1dfbc2",
   "metadata": {},
   "source": [
    "16. What is the procedure for making a normal expression in regax case insensitive?\n",
    "\n",
    "By passing re.I\n",
    "or\n",
    "re.IGNORECASE as the second argument to re.compile() will make the matching case insensitive."
   ]
  },
  {
   "cell_type": "raw",
   "id": "8e54f9cb",
   "metadata": {},
   "source": [
    "17. What does the . character normally match? What does it match if re.DOTALL is passed as 2nd argument in re.compile()?\n",
    "\n",
    "The . character normally matches any character except a newline.\n",
    "If re.DOTALL is passed as 2nd argument in re.compile() then dot character will match newline character also."
   ]
  },
  {
   "cell_type": "raw",
   "id": "3ecc434e",
   "metadata": {},
   "source": [
    "18. If numReg = re.compile(r'\\d+'), what will numRegex.sub('X', '11 drummers, 10 pipers, five rings, 4 hen') return?\n",
    "\n",
    "import re\n",
    "\n",
    "numReg=re.compile(r'\\d+')\n",
    "numReg.sub('X','11 drummers, 10 pipers, five rings, 4 hen')\n",
    "\n",
    "'X drummers, X pipers, five rings, X hens'"
   ]
  },
  {
   "cell_type": "raw",
   "id": "782998d1",
   "metadata": {},
   "source": [
    "19. What does passing re.VERBOSE as the 2nd argument to re.compile() allow to do?\n",
    "\n",
    "The re.VERBOSE argument allows to add whitespace and comments to the string passed to re.compile()."
   ]
  },
  {
   "cell_type": "raw",
   "id": "e27c75f7",
   "metadata": {},
   "source": [
    "20. How would you write a regex that match a number with comma for every three digits? It must match the given following:\n",
    "'42'\n",
    "'1,234'\n",
    "'6,368,745'\n",
    "but not the following:\n",
    "'12,34,567' (which has only two digits between the commas)\n",
    "'1234' (which lacks commas)\n",
    "\n",
    "\n",
    "re.compile(r'^\\d{1,3}(,\\d{3})*$')\n",
    "will create this regex, but other regex strings can produce a similar regular expression."
   ]
  },
  {
   "cell_type": "raw",
   "id": "189c9618",
   "metadata": {},
   "source": [
    "21. How would you write a regex that matches the full name of someone whose last name is Watanabe? You can assume that the first name that comes before it will always be one word that begins with a capital letter. The regex must match the following:\n",
    "'Haruto Watanabe'\n",
    "'Alice Watanabe'\n",
    "'RoboCop Watanabe'\n",
    "but not the following:\n",
    "'haruto Watanabe' (where the first name is not capitalized)\n",
    "'Mr. Watanabe' (where the preceding word has a nonletter character)\n",
    "'Watanabe' (which has no first name)\n",
    "'Haruto watanabe' (where Watanabe is not capitalized)\n",
    "\n",
    "re.compile(r'[A-Z][a-z]*\\Watanabe')\n"
   ]
  },
  {
   "cell_type": "raw",
   "id": "2aa999db",
   "metadata": {},
   "source": [
    "22. How would you write a regex that matches a sentence where the first word is either Alice, Bob, or Carol; the second word is either eats, pets, or throws; the third word is apples, cats, or baseballs; and the sentence ends with a period? This regex should be case-insensitive. It must match the following:\n",
    "'Alice eats apples.'\n",
    "'Bob pets cats.'\n",
    "'Carol throws baseballs.'\n",
    "'Alice throws Apples.'\n",
    "'BOB EATS CATS.'\n",
    "but not the following:\n",
    "'RoboCop eats apples.'\n",
    "'ALICE THROWS FOOTBALLS.'\n",
    "'Carol eats 7 cats.'\n",
    "\n",
    "re.compile(r'(Alice|Bob|Carol)\\s(eats|pets|throws)\\s(apples|cats|baseballs)\\.', re.IGNORECASE)"
   ]
  }
 ],
 "metadata": {
  "kernelspec": {
   "display_name": "Python 3",
   "language": "python",
   "name": "python3"
  },
  "language_info": {
   "codemirror_mode": {
    "name": "ipython",
    "version": 3
   },
   "file_extension": ".py",
   "mimetype": "text/x-python",
   "name": "python",
   "nbconvert_exporter": "python",
   "pygments_lexer": "ipython3",
   "version": "3.8.8"
  }
 },
 "nbformat": 4,
 "nbformat_minor": 5
}
