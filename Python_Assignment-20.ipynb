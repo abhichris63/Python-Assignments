{
 "cells": [
  {
   "cell_type": "markdown",
   "id": "7c2813b3",
   "metadata": {},
   "source": [
    "# Python_Assignment-20"
   ]
  },
  {
   "cell_type": "raw",
   "id": "ca2a97ab",
   "metadata": {},
   "source": [
    "1. Set the variable test1 to the string 'This is a test of the emergency text system,' and save test1 to a\n",
    "file named test.txt.\n",
    "\n",
    "test1 = 'This is a test of the emergency text system,'\n",
    "\n",
    "file1 = open('test.txt','w')\n",
    "file1.write(test1)\n",
    "file1.close()"
   ]
  },
  {
   "cell_type": "raw",
   "id": "f24cf5e0",
   "metadata": {},
   "source": [
    "2. Read the contents of the file test.txt into the variable test2. Is there a difference between test 1\n",
    "and test 2?\n",
    "\n",
    "file_read = open('test.txt','r')\n",
    "test2 = file_read.readline()\n",
    "print(test2)\n",
    "\n",
    "if test2 == test1:\n",
    "    print('same')\n",
    "else:\n",
    "    print('no')\n",
    "    \n",
    "#This is a test of the emergency text system,\n",
    "#same\n",
    "\n",
    "No, They are same"
   ]
  },
  {
   "cell_type": "raw",
   "id": "51560044",
   "metadata": {},
   "source": [
    "3. Create a CSV file called books.csv by using these lines:\n",
    "title,author,year\n",
    "The Weirdstone of Brisingamen,Alan Garner,1960\n",
    "Perdido Street Station,China Miéville,2000\n",
    "Thud!,Terry Pratchett,2005\n",
    "The Spellman Files,Lisa Lutz,2007\n",
    "Small Gods,Terry Pratchett,1992\n",
    "\n",
    "import csv\n",
    "\n",
    "rows = [['title','author','year'],\n",
    "       ['The Weirdstone of Brisingamen','Alan Garner',1960],\n",
    "       ['Perdido Street Station','China Miéville',2000],\n",
    "       ['Thud!','Terry Pratchett',2005],\n",
    "       ['The Spellman Files','Lisa Lutz',2007],\n",
    "       ['Small Gods','Terry Pratchett',1992]]\n",
    "\n",
    "with open('books.csv','w',newline='') as b:\n",
    "    writer = csv.writer(b)\n",
    "    writer.writerows(rows)\n",
    "    \n",
    "    \n",
    "with open('books.csv','r') as re:\n",
    "    for i in re.readlines():\n",
    "        print(i)\n",
    "\n",
    "Output:\n",
    "        title,author,year\n",
    "\n",
    "        The Weirdstone of Brisingamen,Alan Garner,1960\n",
    "\n",
    "        Perdido Street Station,China Miéville,2000\n",
    "\n",
    "        Thud!,Terry Pratchett,2005\n",
    "\n",
    "        The Spellman Files,Lisa Lutz,2007\n",
    "\n",
    "        Small Gods,Terry Pratchett,1992"
   ]
  },
  {
   "cell_type": "raw",
   "id": "263a065d",
   "metadata": {},
   "source": [
    "4. Use the sqlite3 module to create a SQLite database called books.db, and a table called books with\n",
    "these fields: title (text), author (text), and year (integer).\n",
    "    \n",
    "import sqlite3\n",
    "\n",
    "conn = sqlite3.connect('books.db')\n",
    "cursor = conn.cursor()\n",
    "cursor.execute('DROP TABLE IF EXISTS books')\n",
    "cursor.execute('create table books(title varchar(30), author varchar(30), year int(4))')\n",
    "conn.commit()"
   ]
  },
  {
   "cell_type": "raw",
   "id": "e79b5039",
   "metadata": {},
   "source": [
    "5. Read books.csv and insert its data into the book table.\n",
    "\n",
    "\n",
    "import pandas as pd\n",
    "\n",
    "read_books = pd.read_csv('books.csv',encoding='unicode_escape')\n",
    "read_books.to_sql('books',conn,if_exists='append',index = False)"
   ]
  },
  {
   "cell_type": "raw",
   "id": "1782ed93",
   "metadata": {},
   "source": [
    "6. Select and print the title column from the book table in alphabetical order.\n",
    "\n",
    "cursor.execute('select title from books order by title asc')\n",
    "cursor.fetchall()\n",
    "\n",
    "result:\n",
    "     [('Perdido Street Station',),\n",
    "     ('Small Gods',),\n",
    "     ('The Spellman Files',),\n",
    "     ('The Weirdstone of Brisingamen',),\n",
    "     ('Thud!',)]"
   ]
  },
  {
   "cell_type": "code",
   "execution_count": 11,
   "id": "b1254ee7",
   "metadata": {},
   "outputs": [
    {
     "data": {
      "text/plain": [
       "[('The Weirdstone of Brisingamen', 'Alan Garner', 1960),\n",
       " ('Small Gods', 'Terry Pratchett', 1992),\n",
       " ('Perdido Street Station', 'China Miéville', 2000),\n",
       " ('Thud!', 'Terry Pratchett', 2005),\n",
       " ('The Spellman Files', 'Lisa Lutz', 2007)]"
      ]
     },
     "execution_count": 11,
     "metadata": {},
     "output_type": "execute_result"
    }
   ],
   "source": [
    "#7. From the book table, select and print all columns in the order of publication.\n",
    "\n",
    "cursor.execute(\"select * from books order by year\")\n",
    "cursor.fetchall()"
   ]
  },
  {
   "cell_type": "code",
   "execution_count": 12,
   "id": "724715ce",
   "metadata": {},
   "outputs": [
    {
     "name": "stdout",
     "output_type": "stream",
     "text": [
      "('The Weirdstone of Brisingamen', 'Alan Garner', 1960)\n",
      "('Perdido Street Station', 'China Miéville', 2000)\n",
      "('Thud!', 'Terry Pratchett', 2005)\n",
      "('The Spellman Files', 'Lisa Lutz', 2007)\n",
      "('Small Gods', 'Terry Pratchett', 1992)\n"
     ]
    }
   ],
   "source": [
    "#8. Use the sqlalchemy module to connect to the sqlite3 database books.db that you just made in\n",
    "#exercise 6.\n",
    "\n",
    "\n",
    "import sqlalchemy\n",
    "\n",
    "engine = sqlalchemy.create_engine('sqlite:///books.db')\n",
    "rows = engine.execute('select * from books')\n",
    "for i in rows:\n",
    "    print(i)"
   ]
  },
  {
   "cell_type": "raw",
   "id": "437c72e9",
   "metadata": {},
   "source": [
    "9.Install the Redis server and the Python redis library (pip install redis) on your computer. Create a\n",
    "Redis hash called test with the fields count (1) and name ('Fester Bestertester'). Print all the fields for\n",
    "test."
   ]
  },
  {
   "cell_type": "code",
   "execution_count": 9,
   "id": "faf9c999",
   "metadata": {},
   "outputs": [
    {
     "name": "stdout",
     "output_type": "stream",
     "text": [
      "Requirement already satisfied: redis[srv] in c:\\users\\admin\\anaconda\\lib\\site-packages (4.3.4)\n",
      "Requirement already satisfied: packaging>=20.4 in c:\\users\\admin\\anaconda\\lib\\site-packages (from redis[srv]) (21.3)\n",
      "Requirement already satisfied: deprecated>=1.2.3 in c:\\users\\admin\\anaconda\\lib\\site-packages (from redis[srv]) (1.2.13)\n",
      "Requirement already satisfied: async-timeout>=4.0.2 in c:\\users\\admin\\anaconda\\lib\\site-packages (from redis[srv]) (4.0.2)\n",
      "Requirement already satisfied: wrapt<2,>=1.10 in c:\\users\\admin\\anaconda\\lib\\site-packages (from deprecated>=1.2.3->redis[srv]) (1.12.1)\n",
      "Requirement already satisfied: pyparsing!=3.0.5,>=2.0.2 in c:\\users\\admin\\anaconda\\lib\\site-packages (from packaging>=20.4->redis[srv]) (3.0.9)\n",
      "Note: you may need to restart the kernel to use updated packages.\n"
     ]
    },
    {
     "name": "stderr",
     "output_type": "stream",
     "text": [
      "WARNING: redis 4.3.4 does not provide the extra 'srv'\n"
     ]
    }
   ],
   "source": [
    "pip install redis"
   ]
  },
  {
   "cell_type": "raw",
   "id": "74548108",
   "metadata": {},
   "source": [
    "10. Increment the count field of test and print it."
   ]
  }
 ],
 "metadata": {
  "kernelspec": {
   "display_name": "Python 3 (ipykernel)",
   "language": "python",
   "name": "python3"
  },
  "language_info": {
   "codemirror_mode": {
    "name": "ipython",
    "version": 3
   },
   "file_extension": ".py",
   "mimetype": "text/x-python",
   "name": "python",
   "nbconvert_exporter": "python",
   "pygments_lexer": "ipython3",
   "version": "3.9.12"
  }
 },
 "nbformat": 4,
 "nbformat_minor": 5
}
