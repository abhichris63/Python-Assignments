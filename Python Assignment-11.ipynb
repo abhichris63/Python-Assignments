{
 "cells": [
  {
   "cell_type": "markdown",
   "id": "7a05a7eb",
   "metadata": {},
   "source": [
    "# Python Assignment-11"
   ]
  },
  {
   "cell_type": "raw",
   "id": "dd54d2fb",
   "metadata": {},
   "source": [
    "1. Create an assert statement that throws an AssertionError if the variable spam is a negative\n",
    "integer.\n",
    "\n",
    "spam = int(input())\n",
    "print('Entered input is : ',spam)\n",
    "assert spam >= 0,'Enter a positive value'\n",
    "print('spam is a positive value')\n",
    "\n",
    "Output:\n",
    "\n",
    "-1\n",
    "Entered input is :  -1\n",
    "---------------------------------------------------------------------------\n",
    "AssertionError                            Traceback (most recent call last)\n",
    "Input In [46], in <cell line: 3>()\n",
    "      1 spam = int(input())\n",
    "      2 print('Entered input is : ',spam)\n",
    "----> 3 assert spam >= 0,'Enter a positive value'\n",
    "      4 print('spam is a positive value')\n",
    "\n",
    "AssertionError: Enter a positive value"
   ]
  },
  {
   "cell_type": "raw",
   "id": "408fe83c",
   "metadata": {},
   "source": [
    "2. Write an assert statement that triggers an AssertionError if the variables eggs and bacon contain\n",
    "strings that are the same as each other, even if their cases are different (that is, &#39;hello&#39; and &#39;hello&#39; are\n",
    "considered the same, and &#39;goodbye&#39; and &#39;GOODbye&#39; are also considered the same).\n",
    "\n",
    "eggs = input().lower()\n",
    "bacon = input().lower()\n",
    "\n",
    "assert eggs==bacon,'The strings are not same as each other'\n",
    "print('There are same')\n",
    "\n",
    "\n",
    "Output:\n",
    "\n",
    "&#39;goodbye&#39\n",
    "&#39;GOODbye&#39\n",
    "There are same"
   ]
  },
  {
   "cell_type": "raw",
   "id": "c0ef2e4e",
   "metadata": {},
   "source": [
    "3. Create an assert statement that throws an AssertionError every time.\n",
    "\n",
    "assert False,\"Invalid Operation\"\n",
    "\n",
    "After given assertion statment as False it triggers always to AssertionError,\n",
    "Whereas when the statement is True it will pass to next line of code.\n"
   ]
  },
  {
   "cell_type": "raw",
   "id": "d90bd975",
   "metadata": {},
   "source": [
    "4. What are the two lines that must be present in your software in order to call logging.debug()?\n",
    "\n",
    "import logging\n",
    "logging.basicConfig(level=logging.DEBUG, format='%(asctime)s %(levelname)s %(message)s')"
   ]
  },
  {
   "cell_type": "raw",
   "id": "c96ed8d6",
   "metadata": {},
   "source": [
    "5. What are the two lines that your program must have in order to have logging.debug() send a\n",
    "logging message to a file named programLog.txt?\n",
    "\n",
    "import logging\n",
    "logging.basicConfig(filename='programLog.txt', level=logging.DEBUG, format='%(asctime)s %(levelname)s %(message)s' )\n",
    "logging.debug('This is debug log')"
   ]
  },
  {
   "cell_type": "raw",
   "id": "f54b714f",
   "metadata": {},
   "source": [
    "6. What are the five levels of logging?\n",
    "\n",
    "CRITICAL\n",
    "ERROR\n",
    "WARNING\n",
    "INFO\n",
    "DEBUG"
   ]
  },
  {
   "cell_type": "raw",
   "id": "3dc0fafb",
   "metadata": {},
   "source": [
    "7. What line of code would you add to your software to disable all logging messages?\n",
    "\n",
    "import logging\n",
    "\n",
    "logging.disable(logging.CRITICAL)"
   ]
  },
  {
   "cell_type": "raw",
   "id": "b3138439",
   "metadata": {},
   "source": [
    "8.Why is using logging messages better than using print() to display the same message?\n",
    "\n",
    "print() statement displays messages on the console.\n",
    "But logging can be used in file to debug the code inside the file and displays error messages with timestamp, can handle and track the errors accordingly."
   ]
  },
  {
   "cell_type": "raw",
   "id": "b0a7a76c",
   "metadata": {},
   "source": [
    "9. What are the differences between the Step Over, Step In, and Step Out buttons in the debugger?\n",
    "\n",
    "Step In button moves the debugger into the function is called.\n",
    "Step Over button executes the function called without stepping into it.\n",
    "Step Out button will execute the rest of the code untill it steps out of the function which is already is in."
   ]
  },
  {
   "cell_type": "raw",
   "id": "b844a87a",
   "metadata": {},
   "source": [
    "10.After you click Continue, when will the debugger stop ?\n",
    "\n",
    "After clicking Continue Execution the debugger will stop when it encounters breakpoint or end of the program."
   ]
  },
  {
   "cell_type": "raw",
   "id": "e1ba6628",
   "metadata": {},
   "source": [
    "11. What is the concept of a breakpoint?\n",
    "\n",
    "breakpoint() is used to pause the debugger when the program execution reaches the line."
   ]
  }
 ],
 "metadata": {
  "kernelspec": {
   "display_name": "Python 3 (ipykernel)",
   "language": "python",
   "name": "python3"
  },
  "language_info": {
   "codemirror_mode": {
    "name": "ipython",
    "version": 3
   },
   "file_extension": ".py",
   "mimetype": "text/x-python",
   "name": "python",
   "nbconvert_exporter": "python",
   "pygments_lexer": "ipython3",
   "version": "3.9.12"
  }
 },
 "nbformat": 4,
 "nbformat_minor": 5
}
