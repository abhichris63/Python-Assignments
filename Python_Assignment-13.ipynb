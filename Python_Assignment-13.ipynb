{
 "cells": [
  {
   "cell_type": "markdown",
   "id": "9491eff7",
   "metadata": {},
   "source": [
    "# Python_Assignment-13"
   ]
  },
  {
   "cell_type": "raw",
   "id": "b6b3dfe9",
   "metadata": {},
   "source": [
    "1. What advantages do Excel spreadsheets have over CSV spreadsheets?\n",
    "\n",
    "Excel is superior then CSV. There is a option of using formulas where as in CSV it is not there.\n",
    "Formulas plays an major role in excel to manipulate data and can store the data. user can open the excel through only excel application but csv can be opened in many more applications example text editor."
   ]
  },
  {
   "cell_type": "raw",
   "id": "e6bcbcf7",
   "metadata": {},
   "source": [
    "2.What do you pass to csv.reader() and csv.writer() to create reader and writer objects?\n",
    "\n",
    "This is for csv.writer() to write a text inside the csv file.\n",
    "\n",
    "import csv\n",
    "\n",
    "with open('sample.csv','w') as w:\n",
    "    write = csv.writer(w)\n",
    "    write.writerow('This is csv first text')\n",
    "\n",
    "This is for csv.reader() to read the text which is present inside the sample.csv file.\n",
    "\n",
    "with open('sample.csv','r') as r:\n",
    "    read = csv.reader(r)"
   ]
  },
  {
   "cell_type": "raw",
   "id": "21b215e4",
   "metadata": {},
   "source": [
    "3. What modes do File objects for reader and writer objects need to be opened in?\n",
    "\n",
    "r is the mode of read file object for reader used.\n",
    "w is the mode of write file for writer used.\n",
    "r+ opens in the both read and write mode.\n",
    "w+ opens in the both read and write mode."
   ]
  },
  {
   "cell_type": "raw",
   "id": "998117df",
   "metadata": {},
   "source": [
    "4. What method takes a list argument and writes it to a CSV file?\n",
    "\n",
    "writerow() This is function takes a list argument to write data in csv file."
   ]
  },
  {
   "cell_type": "raw",
   "id": "d85ae09a",
   "metadata": {},
   "source": [
    "5. What do the keyword arguments delimiter and line terminator do?\n",
    "\n",
    "delimiter character seperates the cells on the row it appears between the cells on the row and by default delimiter will be comma in csv file.\n",
    "line terminator is a character that comes at the end of the row and by default line terminator is a new line."
   ]
  },
  {
   "cell_type": "raw",
   "id": "87152c82",
   "metadata": {},
   "source": [
    "6. What function takes a string of JSON data and returns a Python data structure?\n",
    "\n",
    "json.loads() method returns python data structure of JSON string."
   ]
  },
  {
   "cell_type": "raw",
   "id": "b3ec5f88",
   "metadata": {},
   "source": [
    "7. What function takes a Python data structure and returns a string of JSON data?\n",
    "\n",
    "json.dumps() funtion returns json data of python data structure."
   ]
  }
 ],
 "metadata": {
  "kernelspec": {
   "display_name": "Python 3 (ipykernel)",
   "language": "python",
   "name": "python3"
  },
  "language_info": {
   "codemirror_mode": {
    "name": "ipython",
    "version": 3
   },
   "file_extension": ".py",
   "mimetype": "text/x-python",
   "name": "python",
   "nbconvert_exporter": "python",
   "pygments_lexer": "ipython3",
   "version": "3.9.12"
  }
 },
 "nbformat": 4,
 "nbformat_minor": 5
}
