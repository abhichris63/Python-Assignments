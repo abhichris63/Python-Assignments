{
 "cells": [
  {
   "cell_type": "raw",
   "id": "d84a5cdc",
   "metadata": {},
   "source": [
    "1. Is the Python Standard Library included with PyInputPlus?\n",
    "\n",
    "\n",
    "Pyinputplus is not included in Python Standard Library to install it we have to use pip install pyinputplus command."
   ]
  },
  {
   "cell_type": "raw",
   "id": "c56ff705",
   "metadata": {},
   "source": [
    "2. Why is PyInputPlus commonly imported with import pyinputplus as pypi?\n",
    "\n",
    "It is because when we need to call PyInputPlus module it is hard to type full name everytime, instead of it we can give pypi, pypi is a alias through that we can call pyinputplus it shortens the typying lenght."
   ]
  },
  {
   "cell_type": "raw",
   "id": "a0dd8663",
   "metadata": {},
   "source": [
    "3. How do you distinguish between inputInt() and inputFloat()?\n",
    "\n",
    "inputInt() It accepts integer value as input and returns interger values as output.\n",
    "inputFload() It accepts integer/floating point value and returns float value.\n",
    "\n",
    "import pyinputplus as py\n",
    "\n",
    "a = py.inputInt('Enter a integer: ')\n",
    "b = py.inputFloat('Enter a integer/float: ')\n",
    "\n",
    "print(a)\n",
    "print(b)\n",
    "\n",
    "Output : \n",
    "\n",
    "Enter a integer: 5\n",
    "Enter a integer/float: 5\n",
    "5\n",
    "5.0"
   ]
  },
  {
   "cell_type": "raw",
   "id": "a2f27915",
   "metadata": {},
   "source": [
    "4. Using PyInputPlus, how do you ensure that the user enters a whole number between 0 and 99?\n",
    "\n",
    "Using Pyinputplus module there is a function called inputInt, It takes additional parameters as min and max through that we can pass our required value of interger.\n",
    "\n",
    "import pyinputplus as py\n",
    "\n",
    "k = py.inputInt('Enter a whole number between 0 and 99: ',min=0, max=99, blank=False)\n",
    "print(k)\n",
    "\n",
    "output;\n",
    "\n",
    "Enter a whole number between 0 and 99: 99\n",
    "99"
   ]
  },
  {
   "cell_type": "raw",
   "id": "752cb49d",
   "metadata": {},
   "source": [
    "5. What is transferred to the keyword arguments allowRegexes and blockRegexes?\n",
    "\n",
    "The allowRegexes and blockRegexes takes a list of Regular Expression while input is given. Whether to allow or not it Restricts the user there itself to accept or not."
   ]
  },
  {
   "cell_type": "raw",
   "id": "43ed5ac5",
   "metadata": {},
   "source": [
    "6. If a blank input is entered three times, what does inputStr(limit=3) do?\n",
    "\n",
    "If blank is given as input for more than 3 times that it will throw an Exception error as RetryLimitException.\n",
    "\n",
    "import pyinputplus as pyip\n",
    "\n",
    "al = pyip.inputStr(limit=3)\n",
    "\n",
    "Output:\n",
    "\n",
    "Blank values are not allowed.\n",
    "\n",
    "Blank values are not allowed.\n",
    "\n",
    "Blank values are not allowed.\n",
    "\n",
    "ValidationException                       Traceback (most recent call last)\n",
    "~\\anaconda3\\lib\\site-packages\\pyinputplus\\__init__.py in _genericInput(prompt, default, timeout, limit, applyFunc, validationFunc, postValidateApplyFunc, passwordMask)\n",
    "    166         try:\n",
    "--> 167             possibleNewUserInput = validationFunc(\n",
    "    168                 userInput\n",
    "\n",
    "~\\anaconda3\\lib\\site-packages\\pyinputplus\\__init__.py in <lambda>(value)\n",
    "    242 \n",
    "--> 243     validationFunc = lambda value: pysv._prevalidationCheck(\n",
    "    244         value, blank=blank, strip=strip, allowRegexes=allowRegexes, blockRegexes=blockRegexes, excMsg=None,\n",
    "\n",
    "~\\anaconda3\\lib\\site-packages\\pysimplevalidate\\__init__.py in _prevalidationCheck(value, blank, strip, allowRegexes, blockRegexes, excMsg)\n",
    "    249         # value is blank but blanks aren't allowed.\n",
    "--> 250         _raiseValidationException(_(\"Blank values are not allowed.\"), excMsg)\n",
    "    251     elif blank and value == \"\":\n",
    "\n",
    "~\\anaconda3\\lib\\site-packages\\pysimplevalidate\\__init__.py in _raiseValidationException(standardExcMsg, customExcMsg)\n",
    "    221     if customExcMsg is None:\n",
    "--> 222         raise ValidationException(str(standardExcMsg))\n",
    "    223     else:\n",
    "\n",
    "ValidationException: Blank values are not allowed.\n",
    "\n",
    "During handling of the above exception, another exception occurred:\n",
    "\n",
    "RetryLimitException                       Traceback (most recent call last)\n",
    "<ipython-input-10-2944d09c1f20> in <module>\n",
    "      2 \n",
    "      3 \n",
    "----> 4 al = pyip.inputStr(limit=3)\n",
    "\n",
    "~\\anaconda3\\lib\\site-packages\\pyinputplus\\__init__.py in inputStr(prompt, default, blank, timeout, limit, strip, allowRegexes, blockRegexes, applyFunc, postValidateApplyFunc)\n",
    "    245     )[1]\n",
    "    246 \n",
    "--> 247     return _genericInput(\n",
    "    248         prompt=prompt,\n",
    "    249         default=default,\n",
    "\n",
    "~\\anaconda3\\lib\\site-packages\\pyinputplus\\__init__.py in _genericInput(prompt, default, timeout, limit, applyFunc, validationFunc, postValidateApplyFunc, passwordMask)\n",
    "    186                 else:\n",
    "    187                     # If there is no default, then raise the timeout/limit exception.\n",
    "--> 188                     raise limitOrTimeoutException\n",
    "    189             else:\n",
    "    190                 # If there was no timeout/limit exceeded, let the user enter input again.\n",
    "\n",
    "RetryLimitException: "
   ]
  },
  {
   "cell_type": "raw",
   "id": "fcd18e6e",
   "metadata": {},
   "source": [
    "7. If blank input is entered three times, what does inputStr(limit=3, default='hello') do?\n",
    "\n",
    "If we use limit keyword argument and defualt keyword argument in inputStr() function, After 3 blank input is given instead of throwing a Exception to the Console it will print the string which is passed inside the defualt argument.\n",
    "\n",
    "import pyinputplus as pyip\n",
    "\n",
    "a = pyip.inputStr(limit=3, default='Abhi')\n",
    "a\n",
    "\n",
    "Output :\n",
    "\n",
    "Blank values are not allowed.\n",
    "\n",
    "Blank values are not allowed.\n",
    "\n",
    "Blank values are not allowed.\n",
    "\n",
    "'Abhi'"
   ]
  }
 ],
 "metadata": {
  "kernelspec": {
   "display_name": "Python 3",
   "language": "python",
   "name": "python3"
  },
  "language_info": {
   "codemirror_mode": {
    "name": "ipython",
    "version": 3
   },
   "file_extension": ".py",
   "mimetype": "text/x-python",
   "name": "python",
   "nbconvert_exporter": "python",
   "pygments_lexer": "ipython3",
   "version": "3.8.8"
  }
 },
 "nbformat": 4,
 "nbformat_minor": 5
}
