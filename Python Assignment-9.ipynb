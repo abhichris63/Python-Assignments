{
 "cells": [
  {
   "cell_type": "markdown",
   "id": "d5742a61",
   "metadata": {},
   "source": [
    "# PYTHON ASSIGNMENT - 9"
   ]
  },
  {
   "cell_type": "raw",
   "id": "05b73d40",
   "metadata": {},
   "source": [
    "1. To what does a relative path refer?\n",
    "\n",
    "relpath() is a built-in python method to find a relative filepath from the current working directory or from given directory."
   ]
  },
  {
   "cell_type": "raw",
   "id": "4b9b31f4",
   "metadata": {},
   "source": [
    "2. What does an absolute path start with your operating system?\n",
    "\n",
    "Absolute path starts with root directory or home directory and ends with the file or subdirectory, absolute path gives entire path to a file for accessing the file or folder. Absolue path are used in operating system for locating the file or folder. "
   ]
  },
  {
   "cell_type": "raw",
   "id": "d16c9d93",
   "metadata": {},
   "source": [
    "3. What do the functions os.getcwd() and os.chdir() do?\n",
    "\n",
    "import os\n",
    "\n",
    "os.getcwd() //This gives a current working directory of a file or a process.\n",
    "\n",
    "os.chdir() //Should provide a directory path as an argument inside the chdir() to change current working directory to other path of the file."
   ]
  },
  {
   "cell_type": "raw",
   "id": "356d411f",
   "metadata": {},
   "source": [
    "4. What are the . and .. folders?\n",
    "\n",
    ". single dot represents the current directory.\n",
    ".. doublt dot represents the parent directory of a current location."
   ]
  },
  {
   "cell_type": "raw",
   "id": "443716b2",
   "metadata": {},
   "source": [
    "5. In C:\\bacon\\eggs\\spam.txt, which part is the dir name, and which part is the base name?\n",
    "    \n",
    "C:\\bacon\\eggs is directory name\n",
    "spam.txt is base name"
   ]
  },
  {
   "cell_type": "raw",
   "id": "a42472b6",
   "metadata": {},
   "source": [
    "6. What are the three “mode” arguments that can be passed to the open() function?\n",
    "\n",
    "'r' opens the file in read mode.\n",
    "'w' opens or creates a file in write mode.\n",
    "'a' opens the existing file for append operation in append mode."
   ]
  },
  {
   "cell_type": "raw",
   "id": "22cd7893",
   "metadata": {},
   "source": [
    "7. What happens if an existing file is opened in write mode?\n",
    "\n",
    "If a existing file is opened in write mode 'w' then the pointer is placed at the begining of the file and overwrites the existing file with the same name "
   ]
  },
  {
   "cell_type": "raw",
   "id": "f11a0ec7",
   "metadata": {},
   "source": [
    "8. How do you tell the difference between read() and readlines()?\n",
    "\n",
    "read() method reads the entire content present in a file and returns in a single string value.\n",
    "readlines() method reads the certain line in the file when a function is called and returns a called line in a list of string."
   ]
  },
  {
   "cell_type": "raw",
   "id": "a910b15a",
   "metadata": {},
   "source": [
    "9. What data structure does a shelf value resemble?\n",
    "\n",
    "shelf value resembles dictionary value, that as keys() and values() methods with the similar as dictionary methods of same names."
   ]
  }
 ],
 "metadata": {
  "kernelspec": {
   "display_name": "Python 3",
   "language": "python",
   "name": "python3"
  },
  "language_info": {
   "codemirror_mode": {
    "name": "ipython",
    "version": 3
   },
   "file_extension": ".py",
   "mimetype": "text/x-python",
   "name": "python",
   "nbconvert_exporter": "python",
   "pygments_lexer": "ipython3",
   "version": "3.8.8"
  }
 },
 "nbformat": 4,
 "nbformat_minor": 5
}
