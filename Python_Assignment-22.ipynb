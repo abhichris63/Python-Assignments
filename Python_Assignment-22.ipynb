{
 "cells": [
  {
   "cell_type": "code",
   "execution_count": 6,
   "id": "5d6ed5c2",
   "metadata": {},
   "outputs": [
    {
     "name": "stdout",
     "output_type": "stream",
     "text": [
      "iNeuron\n"
     ]
    }
   ],
   "source": [
    "#1. What is the result of the code, and explain?\n",
    "\n",
    "X = 'iNeuron'\n",
    "def func():\n",
    "    print(X)\n",
    "\n",
    "func()\n",
    "\n",
    "#This program will print \"iNeuron\" because'X' is declared as global variable and there is no local variable inside the function. "
   ]
  },
  {
   "cell_type": "code",
   "execution_count": 15,
   "id": "46280ccb",
   "metadata": {},
   "outputs": [
    {
     "name": "stdout",
     "output_type": "stream",
     "text": [
      "iNeuron\n"
     ]
    }
   ],
   "source": [
    "#2. What is the result of the code, and explain?\n",
    "\n",
    "X = 'iNeuron'\n",
    "def func():\n",
    "    X = 'NI!'\n",
    "\n",
    "func()\n",
    "print(X)\n",
    "\n",
    "# In the above program the global variable X='iNeuron' is called in the print function which is outside the func() function\n",
    "# so the result is iNeuron."
   ]
  },
  {
   "cell_type": "code",
   "execution_count": 18,
   "id": "712047fb",
   "metadata": {},
   "outputs": [
    {
     "name": "stdout",
     "output_type": "stream",
     "text": [
      "NI\n",
      "iNeuron\n"
     ]
    },
    {
     "data": {
      "text/plain": [
       "\"In the above program there are 2 print functions used one is outside the func() function so it prints \\nglobal variable X = 'iNeuron' as iNeuron and another one is local variable X='NI' as 'NI when the function is called\""
      ]
     },
     "execution_count": 18,
     "metadata": {},
     "output_type": "execute_result"
    }
   ],
   "source": [
    "#3. What does this code print, and why?\n",
    "\n",
    "X = 'iNeuron'\n",
    "def func():\n",
    "    X = 'NI'\n",
    "    print(X)\n",
    "\n",
    "func()\n",
    "print(X)\n",
    "\n",
    "\"\"\"In the above program there are 2 print functions used one is outside the func() function so it prints \n",
    "global variable X = 'iNeuron' as iNeuron and another one is local variable X='NI' as 'NI when the function is called\"\"\""
   ]
  },
  {
   "cell_type": "code",
   "execution_count": 27,
   "id": "c2824f76",
   "metadata": {},
   "outputs": [
    {
     "name": "stdout",
     "output_type": "stream",
     "text": [
      "NI\n"
     ]
    }
   ],
   "source": [
    "#4. What output does this code produce? Why?\n",
    "\n",
    "X = 'iNeuron'\n",
    "def func():\n",
    "    global X\n",
    "    X = 'NI'\n",
    "\n",
    "func()\n",
    "print(X)\n",
    "\n",
    "# The above program prints NI because in the function the global keyword is used to declare X as global variable\n",
    "# and when the print statement is called X directly the globally declared variable will print is console as 'NI'."
   ]
  },
  {
   "cell_type": "code",
   "execution_count": 39,
   "id": "33a56a02",
   "metadata": {},
   "outputs": [
    {
     "name": "stdout",
     "output_type": "stream",
     "text": [
      "iNeuron\n"
     ]
    },
    {
     "data": {
      "text/plain": [
       "'iNeuron'"
      ]
     },
     "execution_count": 39,
     "metadata": {},
     "output_type": "execute_result"
    }
   ],
   "source": [
    "#5. What about this code—what’s the output, and why?\n",
    "\n",
    "X = 'iNeuron'\n",
    "def func():\n",
    "    X = 'NI'\n",
    "    \n",
    "def nested():\n",
    "    print(X)\n",
    "    \n",
    "nested()\n",
    "\n",
    "func()\n",
    "X\n",
    "\n",
    "#The above program output is iNeuron and 'iNeuron'.\n",
    "# Inside func() function there is no print() statement is given to show the result in the console when the function is called.\n",
    "# Inside the nested() function there is print statement that calls X which is global vaiable present outside the function.\n",
    "# The difference is between iNeuron and 'iNeuron' is iNeuron is called inside the print() statement and \n",
    "# 'iNeuron' is called directly without print statement."
   ]
  },
  {
   "cell_type": "code",
   "execution_count": 56,
   "id": "b6c4e81d",
   "metadata": {},
   "outputs": [
    {
     "name": "stdout",
     "output_type": "stream",
     "text": [
      "Spam\n"
     ]
    }
   ],
   "source": [
    "#6. How about this code: what is its output in Python 3, and explain?\n",
    "\n",
    "def func():\n",
    "    X = 'NI'\n",
    "    def nested():\n",
    "        nonlocal X\n",
    "        X = 'Spam'\n",
    "    nested()\n",
    "    print(X)\n",
    "\n",
    "func()\n",
    "\n",
    "# Output is Spam.\n",
    "# Because in a nested function the global variable will be x = 'Spam' once after declaring nonlocal x."
   ]
  }
 ],
 "metadata": {
  "kernelspec": {
   "display_name": "Python 3 (ipykernel)",
   "language": "python",
   "name": "python3"
  },
  "language_info": {
   "codemirror_mode": {
    "name": "ipython",
    "version": 3
   },
   "file_extension": ".py",
   "mimetype": "text/x-python",
   "name": "python",
   "nbconvert_exporter": "python",
   "pygments_lexer": "ipython3",
   "version": "3.9.12"
  }
 },
 "nbformat": 4,
 "nbformat_minor": 5
}
