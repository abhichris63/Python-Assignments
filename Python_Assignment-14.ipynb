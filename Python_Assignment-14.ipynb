{
 "cells": [
  {
   "cell_type": "markdown",
   "id": "28341675",
   "metadata": {},
   "source": [
    "# Python_Assignment-14"
   ]
  },
  {
   "cell_type": "code",
   "execution_count": null,
   "id": "d0140830",
   "metadata": {},
   "outputs": [],
   "source": [
    "1. What does RGBA stand for?\n",
    "\n",
    "R = RED\n",
    "G = GREEN\n",
    "B = BLUE\n",
    "A = ALPHA"
   ]
  },
  {
   "cell_type": "raw",
   "id": "97cf8620",
   "metadata": {},
   "source": [
    "2. From the Pillow module, how do you get the RGBA value of any images?\n",
    "\n",
    "pip install Pillow\n",
    "\n",
    "from PIL import Image\n",
    "filename = \"original.jpg\"\n",
    "Img = Image.open(filename)\n",
    "colors = Img.getpixel((320,240))\n",
    "print(colors)]\n",
    "\n",
    "Output : (123, 123, 23, 255)\n",
    "\n",
    "\n",
    "By calling Img.getpixel((x,y)) with x as x coordinate and y as y coordinate of the pixel."
   ]
  },
  {
   "cell_type": "raw",
   "id": "8677a9d9",
   "metadata": {},
   "source": [
    "3. What is a box tuple, and how does it work?\n",
    "\n",
    "Box Tuple submodule provides read only access to the tuple userdata type.\n",
    "It allows for a single tuple : \n",
    "selective retrieval of the field contents.\n",
    "retrieval information about size.\n",
    "iteration over all fields.\n",
    "coversion of Lua table."
   ]
  },
  {
   "cell_type": "raw",
   "id": "2c98ed6b",
   "metadata": {},
   "source": [
    "4. Use your image and load in notebook then, How can you find out the width and height of an\n",
    "Image object?\n",
    "\n",
    "from PIL import Image\n",
    "\n",
    "filepath = \"original.jpg\"\n",
    "\n",
    "img = Image.open(filepath)\n",
    "\n",
    "width = img.width\n",
    "height = img.height\n",
    "\n",
    "print(\"The width of image is :\",width)\n",
    "print(\"The height of image is :\",height)\n",
    "\n",
    "Output:\n",
    "\n",
    "The width of image is : 600\n",
    "The height of image is : 505"
   ]
  },
  {
   "cell_type": "raw",
   "id": "7c18dd51",
   "metadata": {},
   "source": [
    "5. What method would you call to get Image object for a 100×100 image, excluding the lower-left\n",
    "quarter of it?\n",
    "\n",
    "\n",
    "from PIL import Image\n",
    "\n",
    "im3 = Image.new('RGBA',(100,100))\n",
    "im3.getpixel((0,0))\n",
    "\n",
    "Output: (0, 0, 0, 0)"
   ]
  },
  {
   "cell_type": "raw",
   "id": "ca9cb10c",
   "metadata": {},
   "source": [
    "6. After making changes to an Image object, how could you save it as an image file?\n",
    "\n",
    "from PIL import Image\n",
    "\n",
    "Imag = Image.open('cat.jpg')\n",
    "Imag2 = Imag.save('savedCatImage.jpg')"
   ]
  },
  {
   "cell_type": "raw",
   "id": "29763446",
   "metadata": {},
   "source": [
    "7. What module contains Pillow’s shape-drawing code?\n",
    "\n",
    "from PIL import Image,ImageDraw\n",
    "\n",
    "img4 = Image.open('cat.jpg')\n",
    "draw = ImageDraw.Draw(img4)\n",
    "\n",
    "\n",
    "ImageDraw module is used for drawing shape code. "
   ]
  },
  {
   "cell_type": "raw",
   "id": "b85fc2e4",
   "metadata": {},
   "source": [
    "8. Image objects do not have drawing methods. What kind of object does? How do you get this kind\n",
    "of object?\n",
    "\n",
    "ImageDraw module have drawing methods.\n",
    "We can get this drawing objects by importing ImageDraw module from PIL and call ImageDraw.Draw() to draw."
   ]
  }
 ],
 "metadata": {
  "kernelspec": {
   "display_name": "Python 3 (ipykernel)",
   "language": "python",
   "name": "python3"
  },
  "language_info": {
   "codemirror_mode": {
    "name": "ipython",
    "version": 3
   },
   "file_extension": ".py",
   "mimetype": "text/x-python",
   "name": "python",
   "nbconvert_exporter": "python",
   "pygments_lexer": "ipython3",
   "version": "3.9.12"
  }
 },
 "nbformat": 4,
 "nbformat_minor": 5
}
