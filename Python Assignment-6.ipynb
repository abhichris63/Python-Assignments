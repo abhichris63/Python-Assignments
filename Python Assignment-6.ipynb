{
 "cells": [
  {
   "cell_type": "markdown",
   "id": "b9f15ae5",
   "metadata": {},
   "source": [
    "# PYTHON ASSIGNMENT - 6"
   ]
  },
  {
   "cell_type": "markdown",
   "id": "d23664ea",
   "metadata": {},
   "source": [
    "1. What are escape characters, and how do you use them?\n",
    "\n",
    "\\' = This escapes the apostrophe in the string.\n",
    "\\n = This adds new line to a string\n",
    "\\\\ = This escapes blackslash\n",
    "\\r = carriage return this moves the cursor at the beginning of the line without moving the cursor to new line.\n",
    "\\t = It provides tab\n",
    "\\f = form feed"
   ]
  },
  {
   "cell_type": "markdown",
   "id": "3e013fd0",
   "metadata": {},
   "source": [
    "2. What do the escape characters n and t stand for?\n",
    "\n",
    "n stands for new line\n",
    "t stands for tab"
   ]
  },
  {
   "cell_type": "markdown",
   "id": "9522b25a",
   "metadata": {},
   "source": [
    "3. What is the way to include backslash characters in a string?\n",
    "\n",
    "a = \"Beautifull is the \\\"WORLD\\\"\"\n",
    "a\n",
    "\n",
    "Using blackslash this tells python to ignore the next characters or symbols which is next to blackslash."
   ]
  },
  {
   "cell_type": "markdown",
   "id": "fdbb082e",
   "metadata": {},
   "source": [
    "4. The string \"Howl's Moving Castle\" is a correct value. Why isn't the single quote character in the word Howl's not escaped a problem?\n",
    "\n",
    "string=\"Howl's Moving Castle\"\n",
    "string\n",
    "\n",
    "Its because in the beginning and ending of the string starts with double quotes so its not a problem using single quotes in a string."
   ]
  },
  {
   "cell_type": "markdown",
   "id": "935fd8c5",
   "metadata": {},
   "source": [
    "5. How do you write a string of newlines if you don't want to use the n character?\n",
    "\n",
    "print(\"python\")\n",
    "print(\"assignment\")\n",
    "\n",
    "output: python\n",
    "        assignment"
   ]
  },
  {
   "cell_type": "markdown",
   "id": "7ac2f1a7",
   "metadata": {},
   "source": [
    "6. What are the values of the given expressions?\n",
    "'Hello, world!'[1] = 'e'\n",
    "'Hello, world!'[0:5] = 'Hello'\n",
    "'Hello, world!'[:5] = 'Hello'\n",
    "'Hello, world!'[3:] = 'lo, world!'"
   ]
  },
  {
   "cell_type": "markdown",
   "id": "a5c68bed",
   "metadata": {},
   "source": [
    "7. What are the values of the following expressions?\n",
    "'Hello'.upper() = 'HELLO'\n",
    "'Hello'.upper().isupper() = True\n",
    "'Hello'.upper().lower() = 'hello'"
   ]
  },
  {
   "cell_type": "markdown",
   "id": "31bb1c76",
   "metadata": {},
   "source": [
    "8. What are the values of the following expressions?\n",
    "'Remember, remember, the fifth of July.'.split()\n",
    "Result = ['Remember,', 'remember,', 'the', 'fifth', 'of', 'July.']\n",
    "\n",
    "'-'.join('There can only one.'.split())\n",
    "Result = 'There-can-only-one.'"
   ]
  },
  {
   "cell_type": "markdown",
   "id": "2340ce08",
   "metadata": {},
   "source": [
    "9. What are the methods for right-justifying, left-justifying, and centering a string?\n",
    "\n",
    "rjust() This is the right-justifying with parameters of lenght and the character. If the character is not given by default '' space will occupy.\n",
    "ljust() This is the left-justifying with parameters of lenght and the character. If the character is not given by default '' space will take place.\n",
    "center() This makes string centering aligns the string in center by giving a character, if not space will take place as default."
   ]
  },
  {
   "cell_type": "markdown",
   "id": "31979aa4",
   "metadata": {},
   "source": [
    "10. What is the best way to remove whitespace characters from the start or end?\n",
    "\n",
    "By using strip() python built-in method this removes start and the end whitespaces or any other specified characters or symbols.\n"
   ]
  }
 ],
 "metadata": {
  "kernelspec": {
   "display_name": "Python 3",
   "language": "python",
   "name": "python3"
  },
  "language_info": {
   "codemirror_mode": {
    "name": "ipython",
    "version": 3
   },
   "file_extension": ".py",
   "mimetype": "text/x-python",
   "name": "python",
   "nbconvert_exporter": "python",
   "pygments_lexer": "ipython3",
   "version": "3.8.8"
  }
 },
 "nbformat": 4,
 "nbformat_minor": 5
}
