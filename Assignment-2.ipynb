{
 "cells": [
  {
   "cell_type": "raw",
   "id": "f16800ff",
   "metadata": {},
   "source": [
    "1. What are the two values of the Boolean data type? How do you write them?\n",
    "\n",
    "\n",
    "Ans : True and False\n",
    "      1 represents as True and 0 represents as False.\n",
    "      \n",
    "      We can write a expression to get a boolean values, Below is the example.\n",
    "          100>=200 this gives True\n",
    "          100<=200 this gives false"
   ]
  },
  {
   "cell_type": "raw",
   "id": "f6673a49",
   "metadata": {},
   "source": [
    "2. What are the three different types of Boolean operators?\n",
    "\n",
    "Ans : AND Operator\n",
    "      OR  Operator\n",
    "      NOT Operator"
   ]
  },
  {
   "cell_type": "raw",
   "id": "c9ef2238",
   "metadata": {},
   "source": [
    "3. Make a list of each Boolean operator's truth tables (i.e. every possible combination of Boolean values for the operator and what it evaluate ).\n",
    "\n",
    "There are 3 types of boolean operators : 1. AND OPERATOR 2. OR OPERATOR 3. NOT OPERATOR\n",
    "\n",
    "Truth Table for AND OPERATOR \n",
    "\n",
    "A        B         Q\n",
    "\n",
    "0        0         0\n",
    "0        1         0\n",
    "1        0         0\n",
    "1        1         1\n",
    "\n",
    "\n",
    "Truth Table for OR OPERATOR \n",
    "\n",
    "A        B         Q\n",
    "\n",
    "0        0         0\n",
    "0        1         1\n",
    "1        0         1\n",
    "1        1         1\n",
    "\n",
    "\n",
    "Truth Table for NOT OPERATOR \n",
    "\n",
    "A        B\n",
    "\n",
    "0        0\n",
    "0        1\n",
    "1        0\n",
    "1        1"
   ]
  },
  {
   "cell_type": "raw",
   "id": "8df9c399",
   "metadata": {},
   "source": [
    "4. What are the values of the following expressions?\n",
    "\n",
    "(5 > 4) and (3 == 5) = False\n",
    "not (5 > 4) = False\n",
    "(5 > 4) or (3 == 5) = True\n",
    "not ((5 > 4) or (3 == 5)) = False\n",
    "(True and True) and (True == False) = False\n",
    "(not False) or (not True) = True"
   ]
  },
  {
   "cell_type": "raw",
   "id": "cdb1ff16",
   "metadata": {},
   "source": [
    "5. What are the six comparison operators?\n",
    "\n",
    "1. == Equal to \n",
    "2. <  Less than\n",
    "3. >  Greater than\n",
    "4. >= Greater than or equal to\n",
    "5. <= Less than or equal to\n",
    "6. != Not Equal to"
   ]
  },
  {
   "cell_type": "raw",
   "id": "3f8f5670",
   "metadata": {},
   "source": [
    "6. How do you tell the difference between the equal to and assignment operators? Describe a condition and when you would use one.\n",
    "\n",
    "a = 10\n",
    "= is assignment operator\n",
    "\n",
    "10 == 10\n",
    "== is equal to operatos\n",
    "\n",
    "a = 10\n",
    "z = 10\n",
    "\n",
    "if a == z:\n",
    "    print(\"This is equal to\")\n",
    "else:\n",
    "    print(\"This is not equal to\")\n",
    "    \n",
    "Output : This is equal to "
   ]
  },
  {
   "cell_type": "raw",
   "id": "7029a96c",
   "metadata": {},
   "source": [
    "7. Identify the three blocks in this code:\n",
    "\n",
    "\n",
    "spam = 0\n",
    "\n",
    "if spam == 10:\n",
    "    print('eggs')\n",
    "    if spam > 5:\n",
    "        print('bacon')\n",
    "else:\n",
    "    print('ham')\n",
    "    print('spam')\n",
    "    print('spam')\n",
    "    \n",
    "1st block is if spam == 10:\n",
    "                    print('eggs')\n",
    "\n",
    "2nd block is if spam > 5:\n",
    "                print('bacon')\n",
    "                \n",
    "3rd block is else:\n",
    "                print('ham')\n",
    "                print('spam')\n",
    "                print('spam')\n"
   ]
  },
  {
   "cell_type": "raw",
   "id": "f81cd3d3",
   "metadata": {},
   "source": [
    "8. Write code that prints Hello if 1 is stored in spam, prints Howdy if 2 is stored in spam, and prints Greetings! if anything else is stored in spam.\n",
    "\n",
    "spam = 5\n",
    "\n",
    "if spam == 1:\n",
    "    print(\"Hello\")\n",
    "elif spam == 2:\n",
    "    print(\"Howdy\")\n",
    "else:\n",
    "    print(\"Greetings!\")\n",
    "    \n",
    "Output : Greetings!"
   ]
  },
  {
   "cell_type": "raw",
   "id": "aaceebdc",
   "metadata": {},
   "source": [
    "9.If your programme is stuck in an endless loop, what keys you’ll press?\n",
    "\n",
    "Ctrl + C"
   ]
  },
  {
   "cell_type": "raw",
   "id": "508dc0a3",
   "metadata": {},
   "source": [
    "10. How can you tell the difference between break and continue?\n",
    "\n",
    "break statement stops the loop which is placed within the loop\n",
    "continue statement skips the single iteration in a loop"
   ]
  },
  {
   "cell_type": "raw",
   "id": "6fe10650",
   "metadata": {},
   "source": [
    "11. In a for loop, what is the difference between range(10), range(0, 10), and range(0, 10, 1)?\n",
    "\n",
    "range(10) means range generates the list of values passed in range() funtion that is 10, It generates 10 values.\n",
    "for example:\n",
    "    range(10)\n",
    "    prints 0,1,2,3,4,5,6,7,8,9\n",
    "\n",
    "range(0, 10) means the first value in range function indicates start and the second value in the range function indicates stop.\n",
    "for example:\n",
    "    range(0,10)\n",
    "    prints 0,1,2,3,4,5,6,7,8,9\n",
    "    we can change the start value in the range function range(0,10) but we cannot do by this range(10)\n",
    "   \n",
    "range(0, 10, 1) means the start,stop and step. This indicates the number of difference between the one and the next number. if the third argument is not passed by default it takes as 1 step that is for example range(0,10,1) 0,1,2,3,4,5,6,7,8,9.\n",
    "If range(0,10,2) 0,2,4,6,8"
   ]
  },
  {
   "cell_type": "raw",
   "id": "24bf1553",
   "metadata": {},
   "source": [
    "12. Write a short program that prints the numbers 1 to 10 using a for loop. Then write an equivalent program that prints the numbers 1 to 10 using a while loop.\n",
    "\n",
    "for i in range(1,11):\n",
    "    print(i)\n",
    " \n",
    "Output: 1\n",
    "        2\n",
    "        3\n",
    "        4\n",
    "        5\n",
    "        6\n",
    "        7\n",
    "        8\n",
    "        9\n",
    "        10\n",
    "       \n",
    "r = 1\n",
    "\n",
    "while(r<=10):\n",
    "    print(r)\n",
    "    r = r+1\n",
    "    \n",
    "Output : 1\n",
    "         2\n",
    "         3\n",
    "         4\n",
    "         5\n",
    "         6\n",
    "         7\n",
    "         8\n",
    "         9\n",
    "         10"
   ]
  },
  {
   "cell_type": "raw",
   "id": "ba10bf8d",
   "metadata": {},
   "source": [
    "13. If you had a function named bacon() inside a module named spam, how would you call it after importing spam?\n",
    "\n",
    "spam.bacon()"
   ]
  }
 ],
 "metadata": {
  "kernelspec": {
   "display_name": "Python 3",
   "language": "python",
   "name": "python3"
  },
  "language_info": {
   "codemirror_mode": {
    "name": "ipython",
    "version": 3
   },
   "file_extension": ".py",
   "mimetype": "text/x-python",
   "name": "python",
   "nbconvert_exporter": "python",
   "pygments_lexer": "ipython3",
   "version": "3.8.8"
  }
 },
 "nbformat": 4,
 "nbformat_minor": 5
}
