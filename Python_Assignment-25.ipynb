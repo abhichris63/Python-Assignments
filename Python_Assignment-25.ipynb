{
 "cells": [
  {
   "cell_type": "markdown",
   "id": "0d358976",
   "metadata": {},
   "source": [
    "1). What is the difference between enclosing a list comprehension in square brackets and\n",
    "parentheses?\n",
    "\n",
    "* Square braket : \n",
    "\n",
    "**Closing in square braket indicates it is list comprehension returns a list.**\n",
    "\n",
    "* parentheses :\n",
    "\n",
    "**Closing in parentheses returns a generator using a yield keyword which returns all the elements one by one.**"
   ]
  },
  {
   "cell_type": "markdown",
   "id": "7fc8140d",
   "metadata": {},
   "source": [
    "2) What is the relationship between generators and iterators?\n",
    "\n",
    "* iterator contains iterable elements with the help of iter() keyword iterator object is initialized.\n",
    "* iterable elements is called with the help of next() keyword that calls the next element. \n",
    "\n",
    "* Generator function generates an interator and returns the iterable elements using yield keyword in sequence.\n",
    "* Generator objects are called the elements using next() or by using for loop on generator function."
   ]
  },
  {
   "cell_type": "markdown",
   "id": "02ac7b40",
   "metadata": {},
   "source": [
    "3) What are the signs that a function is a generator function?\n",
    "\n",
    "* With the help of yield keyword present in a function we can findout it is a generator function.\n",
    "* yield keyword will change normal function to generator function."
   ]
  },
  {
   "cell_type": "markdown",
   "id": "ed851e9c",
   "metadata": {},
   "source": [
    "4) What is the purpose of a yield statement?\n",
    "\n",
    "* Using yield statement in normal function, that converts a normal function to generator function.\n",
    "* It will not return a single value instead multiple values will be returned, When one calls the function it returns iterable generator object and then using for loop or next() keyword we can access or read the values."
   ]
  },
  {
   "cell_type": "markdown",
   "id": "a3b15bbe",
   "metadata": {},
   "source": [
    "5) What is the relationship between map calls and list comprehensions? Make a comparison and contrast between the two.\n",
    "\n",
    "**map calls** returns a map object whereas **list comprehension** returns a list.\n",
    "\n",
    "**map** is faster in case of already defined function.\n",
    "\n",
    "**list comprehension** is faster in evaluating expressions which are too high and complicated.\n",
    "\n",
    "**map** doesnot allow filtering and **list comprehension** allows filtering.\n",
    "\n",
    "When it comes to performance **list comprehension** is good and better than **map**."
   ]
  }
 ],
 "metadata": {
  "kernelspec": {
   "display_name": "Python 3 (ipykernel)",
   "language": "python",
   "name": "python3"
  },
  "language_info": {
   "codemirror_mode": {
    "name": "ipython",
    "version": 3
   },
   "file_extension": ".py",
   "mimetype": "text/x-python",
   "name": "python",
   "nbconvert_exporter": "python",
   "pygments_lexer": "ipython3",
   "version": "3.10.9"
  }
 },
 "nbformat": 4,
 "nbformat_minor": 5
}
