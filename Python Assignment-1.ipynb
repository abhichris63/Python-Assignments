{
 "cells": [
  {
   "cell_type": "markdown",
   "id": "b11bcc98",
   "metadata": {},
   "source": [
    "# PYTHON ASSIGNMENT - 1"
   ]
  },
  {
   "cell_type": "raw",
   "id": "a6dd3765",
   "metadata": {},
   "source": [
    "1. In the below elements which of them are values or an expression? eg:- values can be integer or string and expressions will be mathematical operators.\n",
    "\n",
    "*       - expressions\n",
    "'hello' - values\n",
    "-87.8   - values\n",
    "-       - expressions\n",
    "/       - expressions\n",
    "+\t    - expressions\n",
    "6       - values"
   ]
  },
  {
   "cell_type": "raw",
   "id": "5cee9c78",
   "metadata": {},
   "source": [
    "2. What is the difference between string and variable?\n",
    "\n",
    "String is a collection of characters between the single or double quotes that is stored as value for a string. \n",
    "Variable is a name of the location or name of a value which is stored inside the variable, variable can store everything from string to numbers."
   ]
  },
  {
   "cell_type": "raw",
   "id": "f3bdcf5e",
   "metadata": {},
   "source": [
    "3. Describe three different data types.\n",
    "\n",
    "1.Integers - in short (int) numbers\n",
    "2.String - in short (str) collect of characters or words\n",
    "3.Float - in short (float) real numbers ex:35.83 \n",
    "4.Boolean - in short (bool) True (1) or False (0)"
   ]
  },
  {
   "cell_type": "raw",
   "id": "1bf88d27",
   "metadata": {},
   "source": [
    "4. What is an expression made up of? What do all expressions do?\n",
    "\n",
    "Expression is madeup of operator and operands. Operators are for example (\"+\",\"-\",\"*\",\"/\") addition,subtraction,multiplication and division. Operands can be characters or numbers etc. (a+b) is an expression, expressions perform mathematical operations.\n"
   ]
  },
  {
   "cell_type": "raw",
   "id": "80da4088",
   "metadata": {},
   "source": [
    "5. This assignment statements, like spam = 10. What is the difference between an expression and a statement?\n",
    "\n",
    "1. Ex: 10+10 = 20 is an expression which evaluate and returns the value 20 from the expression 10+10.\n",
    "2. spam = 10 this is an assigment statement which executes and doesnot evaluate and returns nothing. Statemnt is an instruction to a python interpreter to excecute.\n"
   ]
  },
  {
   "cell_type": "raw",
   "id": "6a9948d2",
   "metadata": {},
   "source": [
    "6. After running the following code, what does the variable bacon contain?\n",
    "\n",
    "bacon = 22\n",
    "bacon + 1\n",
    "\n",
    "result is 23"
   ]
  },
  {
   "cell_type": "raw",
   "id": "8b22f89e",
   "metadata": {},
   "source": [
    "7. What should the values of the following two terms be?\n",
    "'spam' + 'spamspam'\n",
    "'spam' * 3\n",
    "\n",
    "1. spamspamspam\n",
    "2. spamspamspam"
   ]
  },
  {
   "cell_type": "raw",
   "id": "379432ee",
   "metadata": {},
   "source": [
    "8. Why is eggs a valid variable name while 100 is invalid?\n",
    "\n",
    "Because the variable name can only contain characters,underscore,uppercase or lowercase and numbers at the end of the variable names for example eggs1 is valid, 1eggs is invalid starting with the numbers are invalid and this results an syntax error."
   ]
  },
  {
   "cell_type": "raw",
   "id": "612c222b",
   "metadata": {},
   "source": [
    "9. What three functions can be used to get the integer, floating-point number, or string version of a value?\n",
    "\n",
    "1. int()\n",
    "2. float()\n",
    "3. str()\n"
   ]
  },
  {
   "cell_type": "raw",
   "id": "fb60789a",
   "metadata": {},
   "source": [
    "10. Why does this expression cause an error? How can you fix it?\n",
    "'I have eaten ' + 99 + ' burritos.'\n",
    "\n",
    "It is because only the string can be concatenated, In the above expression 99 is an integer. So it results an TypeError to retify it below are the ways.\n",
    "\n",
    "1. 'I have eaten ' '99' + ' burritos.' \n",
    "results : 'I have eaten 99 burritos.' This is by adding quotes before and after 99 this converts 99 to an string.\n",
    "\n",
    "2. 'I have eaten ' + str(99) + ' burritos.'\n",
    "results : 'I have eaten 99 burritos.' I have written a string function that is str() this helps to convert integer to string this is called typecasting. "
   ]
  }
 ],
 "metadata": {
  "kernelspec": {
   "display_name": "Python 3",
   "language": "python",
   "name": "python3"
  },
  "language_info": {
   "codemirror_mode": {
    "name": "ipython",
    "version": 3
   },
   "file_extension": ".py",
   "mimetype": "text/x-python",
   "name": "python",
   "nbconvert_exporter": "python",
   "pygments_lexer": "ipython3",
   "version": "3.8.8"
  }
 },
 "nbformat": 4,
 "nbformat_minor": 5
}
