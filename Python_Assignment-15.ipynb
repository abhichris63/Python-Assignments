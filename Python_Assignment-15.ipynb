{
 "cells": [
  {
   "cell_type": "markdown",
   "id": "42bcb059",
   "metadata": {},
   "source": [
    "# Python_Assignment-15"
   ]
  },
  {
   "cell_type": "raw",
   "id": "0dc6d9fb",
   "metadata": {},
   "source": [
    "1.How many seconds are in an hour? Use the interactive interpreter as a calculator and multiply the\n",
    "number of seconds in a minute (60) by the number of minutes in an hour (also 60).\n",
    "sol. 60\n",
    "\n",
    "\n",
    "60*60\n",
    "Output : 3600 seconds are there in one hour."
   ]
  },
  {
   "cell_type": "raw",
   "id": "94cd70a3",
   "metadata": {},
   "source": [
    "2. Assign the result from the previous task (seconds in an hour) to a variable called\n",
    "seconds_per_hour.\n",
    "\n",
    "seconds_per_hour = 3600"
   ]
  },
  {
   "cell_type": "code",
   "execution_count": null,
   "id": "3c171628",
   "metadata": {},
   "outputs": [],
   "source": [
    "3. How many seconds do you think there are in a day? Make use of the variables seconds per hour\n",
    "and minutes per hour.\n",
    "\n",
    "seconds_per_hour * 24\n",
    "86400"
   ]
  },
  {
   "cell_type": "raw",
   "id": "38fef052",
   "metadata": {},
   "source": [
    "4. Calculate seconds per day again, but this time save the result in a variable called seconds_per_day\n",
    "\n",
    "seconds_per_hour = 3600\n",
    "seconds_per_day = seconds_per_hour * 24\n",
    "seconds_per_day\n",
    "\n",
    "Output = 86400"
   ]
  },
  {
   "cell_type": "raw",
   "id": "092bd725",
   "metadata": {},
   "source": [
    "5. Divide seconds_per_day by seconds_per_hour. Use floating-point (/) division.\n",
    "\n",
    "seconds_per_day / seconds_per_hour\n",
    "\n",
    "Output : 24.0"
   ]
  },
  {
   "cell_type": "raw",
   "id": "daad5ed6",
   "metadata": {},
   "source": [
    "6. Divide seconds_per_day by seconds_per_hour, using integer (//) division. Did this number agree\n",
    "with the floating-point value from the previous question, aside from the final .0?\n",
    "\n",
    "seconds_per_day//seconds_per_hour\n",
    "\n",
    "Output : 24"
   ]
  },
  {
   "cell_type": "raw",
   "id": "045337c9",
   "metadata": {},
   "source": [
    "7. Write a generator, genPrimes, that returns the sequence of prime numbers on successive calls to\n",
    "its next() method: 2, 3, 5, 7, 11, ...\n",
    "    \n",
    "genPrimes = [2,3,5,7,11]\n",
    "\n",
    "a =iter(genPrimes)\n",
    "\n",
    "next(a)\n",
    "2\n",
    "next(a)\n",
    "3\n",
    "next(a)\n",
    "5\n",
    "next(a)\n",
    "7\n",
    "next(a)\n",
    "11"
   ]
  }
 ],
 "metadata": {
  "kernelspec": {
   "display_name": "Python 3 (ipykernel)",
   "language": "python",
   "name": "python3"
  },
  "language_info": {
   "codemirror_mode": {
    "name": "ipython",
    "version": 3
   },
   "file_extension": ".py",
   "mimetype": "text/x-python",
   "name": "python",
   "nbconvert_exporter": "python",
   "pygments_lexer": "ipython3",
   "version": "3.9.12"
  }
 },
 "nbformat": 4,
 "nbformat_minor": 5
}
