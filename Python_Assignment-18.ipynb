{
 "cells": [
  {
   "cell_type": "markdown",
   "id": "6e329549",
   "metadata": {},
   "source": [
    "# Python_Assignment-18"
   ]
  },
  {
   "cell_type": "raw",
   "id": "82b563b8",
   "metadata": {},
   "source": [
    "1. Create a zoo.py file first. Define the hours() function, which prints the string 'Open 9-5 daily'.\n",
    "Then, use the interactive interpreter to import the zoo module and call its hours() function.\n",
    "\n",
    "import zoo\n",
    "zoo.hours()\n",
    "\n",
    "Result :\n",
    "    Open 9-5 daily"
   ]
  },
  {
   "cell_type": "raw",
   "id": "cd40d5e1",
   "metadata": {},
   "source": [
    "2. In the interactive interpreter, import the zoo module as menagerie and call its hours() function.\n",
    "\n",
    "import zoo as menagerie\n",
    "menagerie.hours()\n",
    "\n",
    "Result :\n",
    "    Open 9-5 daily"
   ]
  },
  {
   "cell_type": "raw",
   "id": "00362236",
   "metadata": {},
   "source": [
    "3. Using the interpreter, explicitly import and call the hours() function from zoo.\n",
    "\n",
    "from zoo import hours\n",
    "\n",
    "hours()\n",
    "\n",
    "Result:\n",
    "    Open 9-5 daily"
   ]
  },
  {
   "cell_type": "raw",
   "id": "86bc821b",
   "metadata": {},
   "source": [
    "4. Import the hours() function as info and call it.\n",
    "\n",
    "from zoo import hours as info\n",
    "info()\n",
    "\n",
    "Result:\n",
    "    Open 9-5 daily"
   ]
  },
  {
   "cell_type": "raw",
   "id": "b78e6667",
   "metadata": {},
   "source": [
    "5. Create a plain dictionary with the key-value pairs 'a': 1, 'b': 2, 'c': 3, and print it out.\n",
    "\n",
    "plain_dic = {'a':1, 'b':2, 'c':3}\n",
    "\n",
    "print(plain_dic)\n",
    "\n",
    "Result:\n",
    "    {'a': 1, 'b': 2, 'c': 3}"
   ]
  },
  {
   "cell_type": "raw",
   "id": "7016bed4",
   "metadata": {},
   "source": [
    "6.Make an OrderedDict called fancy from the same pairs listed in 5 and print it. Did it print in the\n",
    "same order as plain?\n",
    "\n",
    "Yes\n",
    "\n",
    "from collections import OrderedDict\n",
    "\n",
    "fancy=OrderedDict()\n",
    "fancy['a']=1\n",
    "fancy['b']=2\n",
    "fancy['c']=3\n",
    "\n",
    "print(fancy)\n",
    "\n",
    "Result:\n",
    "    OrderedDict([('a', 1), ('b', 2), ('c', 3)])"
   ]
  },
  {
   "cell_type": "raw",
   "id": "c4f74e38",
   "metadata": {},
   "source": [
    "7. Make a default dictionary called dict_of_lists and pass it the argument list. Make the list dict_of_lists['a'] and append the value 'something for a' to it in one assignment. Print dict_of_lists['a']\n",
    "\n",
    "from collections import defaultdict\n",
    "\n",
    "dict_of_lists = defaultdict(list)\n",
    "dict_of_lists['a'].append('something for a ')\n",
    "dict_of_lists\n",
    "\n",
    "Result:\n",
    "    defaultdict(list, {'a': ['something for a ']})"
   ]
  }
 ],
 "metadata": {
  "kernelspec": {
   "display_name": "Python 3 (ipykernel)",
   "language": "python",
   "name": "python3"
  },
  "language_info": {
   "codemirror_mode": {
    "name": "ipython",
    "version": 3
   },
   "file_extension": ".py",
   "mimetype": "text/x-python",
   "name": "python",
   "nbconvert_exporter": "python",
   "pygments_lexer": "ipython3",
   "version": "3.9.12"
  }
 },
 "nbformat": 4,
 "nbformat_minor": 5
}
